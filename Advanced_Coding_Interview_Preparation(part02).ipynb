{
  "nbformat": 4,
  "nbformat_minor": 0,
  "metadata": {
    "colab": {
      "provenance": [],
      "authorship_tag": "ABX9TyOTpJ0dVee1ANxXzsUlqr6+",
      "include_colab_link": true
    },
    "kernelspec": {
      "name": "python3",
      "display_name": "Python 3"
    },
    "language_info": {
      "name": "python"
    }
  },
  "cells": [
    {
      "cell_type": "markdown",
      "metadata": {
        "id": "view-in-github",
        "colab_type": "text"
      },
      "source": [
        "<a href=\"https://colab.research.google.com/github/shuvad23/Advanced-Coding-Interview-Preparation-with-Python/blob/main/Advanced_Coding_Interview_Preparation(part02).ipynb\" target=\"_parent\"><img src=\"https://colab.research.google.com/assets/colab-badge.svg\" alt=\"Open In Colab\"/></a>"
      ]
    },
    {
      "cell_type": "markdown",
      "source": [
        "## Revision of Python HashMaps and Their Use in Practice"
      ],
      "metadata": {
        "id": "poSdOGDneGf2"
      }
    },
    {
      "cell_type": "markdown",
      "source": [
        "- HashMap Operations: Accessing, Updating, and Removing Elements\n",
        " - **Accessing Elements:** You can retrieve a book's title using its key in a straightforward way: library_catalog['book1'] would return 'A Tale of Two Cities'. But what happens if you try to access a key that isn't present in the dictionary? This would result in a KeyError.\n",
        "To prevent such errors, Python dictionaries provide the get() method. It fetches the value for a given key if it exists. If it doesn't, it simply returns None.\n",
        "\n",
        "  - **Adding or Updating Elements:** Whether you're adding a new book to the catalog or updating an existing book's title, you'll use the assignment operator (=). This syntax in Python's dictionaries allows for both updating existing key-value pairs and establishing new ones.\n",
        "  If the specified key exists in the dictionary, the assigned value replaces the existing one.\n",
        "  For updating a title: library_catalog['book1'] = 'The Tell-Tale Heart'.\n",
        "  If the key doesn't exist in the dictionary yet, the operation creates a new key-value pair. For adding a new book: library_catalog['book4'] = 'Pride and Prejudice'.\n",
        "\n",
        "  - **Removing Elements:** If 'book1' no longer exists, you can remove it using del"
      ],
      "metadata": {
        "id": "STERhOxdeO_u"
      }
    },
    {
      "cell_type": "code",
      "execution_count": null,
      "metadata": {
        "colab": {
          "base_uri": "https://localhost:8080/"
        },
        "id": "S_tMRyTAai3e",
        "outputId": "34b43914-1531-482b-a5b0-a8fd82823f34"
      },
      "outputs": [
        {
          "output_type": "stream",
          "name": "stdout",
          "text": [
            "A Tale of Two Cities\n",
            "None\n",
            "Machine Learning with codesignal\n",
            "None\n"
          ]
        }
      ],
      "source": [
        "# Creating a catalog for the library using dictionaries\n",
        "library_catalog = {'book1': 'A Tale of Two Cities',\n",
        "                   'book2': 'To Kill a Mockingbird',\n",
        "                   'book3': '1984'}\n",
        "\n",
        "\n",
        "# Using get() to access a book's title\n",
        "book1 = library_catalog.get('book1')\n",
        "print(book1)  # Output: \"A Tale of Two Cities\"\n",
        "\n",
        "# Using get() to access a nonexistent key\n",
        "nonexistent_book = library_catalog.get('book100')\n",
        "print(nonexistent_book)  # Output: None\n",
        "\n",
        "\n",
        "# updating or adding a value :\n",
        "library_catalog[\"book100\"] = \"Machine Learning with codesignal\"\n",
        "print(library_catalog.get(\"book100\"))\n",
        "\n",
        "# deleting a value\n",
        "del library_catalog[\"book100\"]\n",
        "print(library_catalog.get(\"book100\"))"
      ]
    },
    {
      "cell_type": "markdown",
      "source": [
        "Practice code: HashMap Operations: Accessing, Updating, and Removing Elements"
      ],
      "metadata": {
        "id": "JaVaiaNkglF2"
      }
    },
    {
      "cell_type": "code",
      "source": [
        "# Empty dictionary\n",
        "my_dict = {}\n",
        "\n",
        "# Dictionary with initial values\n",
        "employee = {\n",
        "    \"name\": \"John Doe\",\n",
        "    \"age\": 30,\n",
        "    \"department\": \"Engineering\",\n",
        "    \"skills\": [\"Python\", \"Java\", \"SQL\"]\n",
        "}"
      ],
      "metadata": {
        "id": "gz3G8q-8gkbo"
      },
      "execution_count": null,
      "outputs": []
    },
    {
      "cell_type": "code",
      "source": [
        "# Using get() method (safer)\n",
        "\n",
        "age = employee.get(\"age\")  # Returns 30\n",
        "salary = employee.get(\"salary\")  # Returns None\n",
        "salary = employee.get(\"salary\", 0)  # Returns default value 0 if key doesn't exist\n",
        "\n",
        "# Checking if key exists\n",
        "if \"name\" in employee:\n",
        "    print(\"Key 'name' exists in the dictionary.\")\n",
        "else:\n",
        "    print(\"Key 'name' does not exist in the dictionary.\")"
      ],
      "metadata": {
        "colab": {
          "base_uri": "https://localhost:8080/"
        },
        "id": "_H29NBEWg58y",
        "outputId": "66ca3ad1-aac7-4c75-ee16-ee3cd17d2171"
      },
      "execution_count": null,
      "outputs": [
        {
          "output_type": "stream",
          "name": "stdout",
          "text": [
            "Key 'name' exists in the dictionary.\n"
          ]
        }
      ]
    },
    {
      "cell_type": "code",
      "source": [
        "# Direct assignment\n",
        "\n",
        "employee[\"age\"] = 31  # Updates the age to 31\n",
        "employee[\"salary\"] = 50000  # Adds a new key-value pair"
      ],
      "metadata": {
        "id": "b894hpuNhPJ6"
      },
      "execution_count": null,
      "outputs": []
    },
    {
      "cell_type": "code",
      "source": [
        "# Using update() method\n",
        "employee.update({\"age\": 32, \"department\": \"Sales\"})  # Updates age and department"
      ],
      "metadata": {
        "id": "vZh-zNKLhZdy"
      },
      "execution_count": null,
      "outputs": []
    },
    {
      "cell_type": "code",
      "source": [
        "# Using del keyword\n",
        "del employee[\"skills\"]  # Removes the 'skills' key-value pair\n",
        "# Raises KeyError if key doesn't exist"
      ],
      "metadata": {
        "id": "xrrzjAyohmDR"
      },
      "execution_count": null,
      "outputs": []
    },
    {
      "cell_type": "code",
      "source": [
        "# Using pop() method\n",
        "age = employee.pop(\"age\")  # Removes and returns the 'age' key-value pair\n",
        "# Raises KeyError if key doesn't exist\n",
        "age = employee.pop(\"age\",None) # # Returns None if key doesn't exist"
      ],
      "metadata": {
        "id": "FxA5o7Vahve-"
      },
      "execution_count": null,
      "outputs": []
    },
    {
      "cell_type": "code",
      "source": [
        "# Using popitem()\n",
        "key, value = employee.popitem() # # Removes and returns last inserted item (Python 3.7+)"
      ],
      "metadata": {
        "id": "I_I6MDMYh6f6"
      },
      "execution_count": null,
      "outputs": []
    },
    {
      "cell_type": "code",
      "source": [
        "# Clearing the dictionary\n",
        "employee.clear()  # Removes all key-value pairs"
      ],
      "metadata": {
        "id": "j8T4ret0iPfl"
      },
      "execution_count": null,
      "outputs": []
    },
    {
      "cell_type": "code",
      "source": [
        "print(employee)"
      ],
      "metadata": {
        "colab": {
          "base_uri": "https://localhost:8080/"
        },
        "id": "M-gqZUJNikIt",
        "outputId": "a82046d3-46a9-4ab3-c8c1-358f617a0134"
      },
      "execution_count": null,
      "outputs": [
        {
          "output_type": "stream",
          "name": "stdout",
          "text": [
            "{}\n"
          ]
        }
      ]
    },
    {
      "cell_type": "markdown",
      "source": [
        "2. Advanced Dictionary Operations"
      ],
      "metadata": {
        "id": "8bsfllfViud5"
      }
    },
    {
      "cell_type": "code",
      "source": [
        "# Iterating Through a Dictionary\n",
        "employee = {\n",
        "    \"name\": \"John Doe\",\n",
        "    \"age\": 30,\n",
        "    \"department\": \"Engineering\",\n",
        "    \"skills\": [\"Python\", \"Java\", \"SQL\"]\n",
        "}"
      ],
      "metadata": {
        "id": "wnP3AGgwiuKv"
      },
      "execution_count": null,
      "outputs": []
    },
    {
      "cell_type": "code",
      "source": [
        "# Iterate through keys\n",
        "for key in employee:\n",
        "    print(key)\n",
        "\n",
        "# Iterate through key-value pairs\n",
        "for key, value in employee.items():\n",
        "    print(f\"{key}: {value}\")\n",
        "\n",
        "# Iterate through values\n",
        "for value in employee.values():\n",
        "    print(value)"
      ],
      "metadata": {
        "id": "AuFaPQLmi6gK"
      },
      "execution_count": null,
      "outputs": []
    },
    {
      "cell_type": "code",
      "source": [
        "# Dictionary Comprehensions\n",
        "squres = {x: x*x for x in range(1,6)}\n",
        "print(squres)\n",
        "\n",
        "filtered = {key: value for key, value in squres.items() if isinstance(value, int)}\n",
        "print(filtered)\n",
        "\n",
        "filtered1 = {key: value for key, value in employee.items() if isinstance(value, str)}\n",
        "print(filtered1)"
      ],
      "metadata": {
        "colab": {
          "base_uri": "https://localhost:8080/"
        },
        "id": "aIXisPkXjDjT",
        "outputId": "2fa93acc-a419-4ab4-e142-2a3d15844590"
      },
      "execution_count": null,
      "outputs": [
        {
          "output_type": "stream",
          "name": "stdout",
          "text": [
            "{1: 1, 2: 4, 3: 9, 4: 16, 5: 25}\n",
            "{1: 1, 2: 4, 3: 9, 4: 16, 5: 25}\n",
            "{'name': 'John Doe', 'department': 'Engineering'}\n"
          ]
        }
      ]
    },
    {
      "cell_type": "code",
      "source": [
        "# Merging Dictionaries\n",
        "dict1 = {'a': 1, 'b': 2}\n",
        "dict2 = {'b': 3, 'c': 4}\n",
        "merged = {**dict1, **dict2}\n",
        "print(merged)"
      ],
      "metadata": {
        "colab": {
          "base_uri": "https://localhost:8080/"
        },
        "id": "DTWU225HkFE2",
        "outputId": "eee3594a-5199-4b17-9bd6-a30f8469219a"
      },
      "execution_count": null,
      "outputs": [
        {
          "output_type": "stream",
          "name": "stdout",
          "text": [
            "{'a': 1, 'b': 3, 'c': 4}\n"
          ]
        }
      ]
    },
    {
      "cell_type": "code",
      "source": [
        "# Default Dictionary (collections.defaultdict)\n",
        "from collections import defaultdict\n",
        "\n",
        "new_word_count = defaultdict(int)\n",
        "for word in ['apple', 'banana', 'apple', 'orange']:\n",
        "    new_word_count[word] += 1\n",
        "\n",
        "print(new_word_count)"
      ],
      "metadata": {
        "colab": {
          "base_uri": "https://localhost:8080/"
        },
        "id": "zOqqYy-AkTFu",
        "outputId": "11efdf75-18e7-45e4-ba02-4fbd05aaa569"
      },
      "execution_count": null,
      "outputs": [
        {
          "output_type": "stream",
          "name": "stdout",
          "text": [
            "defaultdict(<class 'int'>, {'apple': 2, 'banana': 1, 'orange': 1})\n"
          ]
        }
      ]
    },
    {
      "cell_type": "code",
      "source": [
        "# Ordered Dictionary (collections.OrderedDict)\n",
        "from collections import OrderedDict\n",
        "\n",
        "# Maintains insertion order\n",
        "orderedList = OrderedDict()\n",
        "orderedList['a'] = 1\n",
        "orderedList['b'] = 2\n",
        "orderedList['c'] = 3\n",
        "\n",
        "print(orderedList)"
      ],
      "metadata": {
        "colab": {
          "base_uri": "https://localhost:8080/"
        },
        "id": "cB8MOzBRkmrT",
        "outputId": "d868ea7f-7787-453d-ce8d-0bcf09df9453"
      },
      "execution_count": null,
      "outputs": [
        {
          "output_type": "stream",
          "name": "stdout",
          "text": [
            "OrderedDict([('a', 1), ('b', 2), ('c', 3)])\n"
          ]
        }
      ]
    },
    {
      "cell_type": "markdown",
      "source": [
        "3. Common Interview Questions and Solutions"
      ],
      "metadata": {
        "id": "kMXOey3Zk_rX"
      }
    },
    {
      "cell_type": "code",
      "source": [
        "# 1. Count character frequencies\n",
        "def count_char_frequencies(string):\n",
        "    frequency = {}\n",
        "    for char in string:\n",
        "        if char in frequency:\n",
        "            frequency[char] += 1\n",
        "        else:\n",
        "            frequency[char] = 1\n",
        "    return frequency\n",
        "\n",
        "print(count_char_frequencies(\"hello\"))\n",
        "\n",
        "\n",
        "def count_char_frequencies2(string):\n",
        "    frequency = {}\n",
        "    for char in string:\n",
        "        frequency[char] = frequency.get(char, 0) + 1\n",
        "    return frequency\n",
        "\n",
        "print(count_char_frequencies2(\"hello world\"))"
      ],
      "metadata": {
        "colab": {
          "base_uri": "https://localhost:8080/"
        },
        "id": "JpFWz2BDk-nH",
        "outputId": "d2e622f3-9a9a-44fc-e6c1-b22c9d5a0fc3"
      },
      "execution_count": null,
      "outputs": [
        {
          "output_type": "stream",
          "name": "stdout",
          "text": [
            "{'h': 1, 'e': 1, 'l': 2, 'o': 1}\n",
            "{'h': 1, 'e': 1, 'l': 3, 'o': 2, ' ': 1, 'w': 1, 'r': 1, 'd': 1}\n"
          ]
        }
      ]
    },
    {
      "cell_type": "code",
      "source": [
        "# 2. Find first non-repeating character\n",
        "def first_not_repeating_char(string):\n",
        "    frequency = {}\n",
        "    repeated_char = set()\n",
        "    none_repeated_char = set()\n",
        "    for char in string:\n",
        "        if char in frequency:\n",
        "            repeated_char.add(char)\n",
        "        else:\n",
        "            frequency[char] = 1\n",
        "\n",
        "    for char in string:\n",
        "        if char not in repeated_char:\n",
        "            none_repeated_char.add(char)\n",
        "    return frequency,repeated_char,none_repeated_char\n",
        "\n",
        "freq , repeated, none_repeated = first_not_repeating_char(\"programming\")\n",
        "print(\"frequency: \", freq)\n",
        "print(\"Repeated Char: \",repeated)\n",
        "print(\"None Repeated Char: \",none_repeated)"
      ],
      "metadata": {
        "colab": {
          "base_uri": "https://localhost:8080/"
        },
        "id": "_LcqB5mmmPHL",
        "outputId": "6c1e9c75-037a-4157-ecf7-2dbc1549d24f"
      },
      "execution_count": null,
      "outputs": [
        {
          "output_type": "stream",
          "name": "stdout",
          "text": [
            "frequency:  {'p': 1, 'r': 1, 'o': 1, 'g': 1, 'a': 1, 'm': 1, 'i': 1, 'n': 1}\n",
            "Repeated Char:  {'m', 'g', 'r'}\n",
            "None Repeated Char:  {'p', 'a', 'o', 'i', 'n'}\n"
          ]
        }
      ]
    },
    {
      "cell_type": "code",
      "source": [
        "# 3. Two Sum problem\n",
        "def two_sum(nums, target):\n",
        "    seen = {}\n",
        "    for i, num in enumerate(nums):\n",
        "        complement = target - num\n",
        "        if complement in seen:\n",
        "            return [seen[complement],i]\n",
        "        seen[num] = i\n",
        "    return []\n",
        "\n",
        "nums = [2, 7, 11, 15]\n",
        "target = 9\n",
        "result = two_sum(nums, target)\n",
        "print(result)"
      ],
      "metadata": {
        "colab": {
          "base_uri": "https://localhost:8080/"
        },
        "id": "WHMPIOXYn2tV",
        "outputId": "73e9629f-b227-4dbb-eb7f-af7fb053918a"
      },
      "execution_count": null,
      "outputs": [
        {
          "output_type": "stream",
          "name": "stdout",
          "text": [
            "[0, 1]\n"
          ]
        }
      ]
    },
    {
      "cell_type": "code",
      "source": [
        "# 4. Group anagrams\n",
        "from collections import defaultdict\n",
        "\n",
        "def group_anagrams(strings):\n",
        "    anagram_groups = defaultdict(list)\n",
        "    for chars in strings:\n",
        "        sorted_char = \"\".join(sorted(chars))\n",
        "        anagram_groups[sorted_char].append(chars)\n",
        "    return anagram_groups\n",
        "\n",
        "strings = [\"eat\", \"tea\", \"tan\", \"ate\", \"nat\", \"bat\"]\n",
        "anagram_groups = group_anagrams(strings)\n",
        "print(anagram_groups)"
      ],
      "metadata": {
        "colab": {
          "base_uri": "https://localhost:8080/"
        },
        "id": "SGh7MA26oTM5",
        "outputId": "a333b730-fb4f-4867-a7c9-ec78cd51fb5f"
      },
      "execution_count": null,
      "outputs": [
        {
          "output_type": "stream",
          "name": "stdout",
          "text": [
            "defaultdict(<class 'list'>, {'aet': ['eat', 'tea', 'ate'], 'ant': ['tan', 'nat'], 'abt': ['bat']})\n"
          ]
        }
      ]
    },
    {
      "cell_type": "markdown",
      "source": [
        "LRU Cache Implementation: Detailed Explanation\n",
        "- What is an LRU Cache?\n",
        "  >LRU (Least Recently Used) is a caching algorithm that removes the least recently used items first when the cache reaches its capacity limit. It's one of the most common caching strategies used in computer systems.\n",
        "\n",
        "- Key Characteristics:\n",
        "  - Fixed capacity: Has a maximum size limit\n",
        "\n",
        "  - Fast access: Provides O(1) average time complexity for get and put operations\n",
        "\n",
        "  - Automatic eviction: When full, automatically removes the least recently used item\n",
        "\n",
        "  - Usage tracking: Keeps track of when items are accessed or modified\n",
        "\n",
        "- Why is LRU Cache Important in Interviews?\n",
        "  - LRU cache implementation is a popular interview question because:\n",
        "\n",
        "    - Tests understanding of hash maps and linked lists\n",
        "\n",
        "    - Evaluates ability to design efficient data structures\n",
        "\n",
        "    - Demonstrates knowledge of caching strategies\n",
        "\n",
        "    - Combines multiple computer science concepts\n",
        "\n",
        "\n",
        "- When to Use LRU Cache?\n",
        "  - Web servers: Cache frequently accessed pages\n",
        "\n",
        "  - Databases: Cache query results\n",
        "\n",
        "  - Operating systems: Memory page replacement\n",
        "\n",
        "  - Applications: Caching expensive computations\n",
        "\n",
        "Common Interview Variations:\n",
        "  - Implement LFU (Least Frequently Used) Cache\n",
        "\n",
        "  - Implement with time-based expiration\n",
        "\n",
        "  - Distributed LRU cache implementation\n",
        "\n",
        "  - Multi-level cache hierarchy"
      ],
      "metadata": {
        "id": "IofMpYvYsLoa"
      }
    },
    {
      "cell_type": "code",
      "source": [
        "# 5. LRU Cache implementation\n",
        "from collections import OrderedDict\n",
        "\n",
        "class LRUCache:\n",
        "    def __init__(self, capacity):\n",
        "        self.capacity = capacity\n",
        "        self.cache = OrderedDict()\n",
        "    def get(self,key):\n",
        "        if key not in self.cache:\n",
        "            return -1\n",
        "        # Move the accessed key to the end to mark it as most recently used\n",
        "        self.cache.move_to_end(key)\n",
        "        return self.cache[key]\n",
        "\n",
        "    def put(self,key,value):\n",
        "        if key in self.cache:\n",
        "            self.cache.move_to_end(key)\n",
        "        self.cache[key] = value\n",
        "        # If capacity exceeded, remove the least recently used item (first item)\n",
        "        if len(self.cache) > self.capacity:\n",
        "            self.cache.popitem(last = False)\n",
        "\n",
        "LRU = LRUCache(2)\n",
        "LRU.put(1,1)\n",
        "LRU.put(2,2)\n",
        "print(LRU.get(1))\n",
        "LRU.put(3,3)\n",
        "print(LRU.get(2))"
      ],
      "metadata": {
        "colab": {
          "base_uri": "https://localhost:8080/"
        },
        "id": "vFCoN7fyqFDH",
        "outputId": "94976b1d-3e60-4390-def9-311e5526414d"
      },
      "execution_count": null,
      "outputs": [
        {
          "output_type": "stream",
          "name": "stdout",
          "text": [
            "1\n",
            "-1\n",
            "-1\n"
          ]
        }
      ]
    },
    {
      "cell_type": "markdown",
      "source": [
        "- lternative Implementation (Doubly Linked List + Hash Map)\n",
        "  >For more control (or in languages without OrderedDict)\n",
        "  \n",
        "  1. Hash Map: For O(1) access to cache items\n",
        "\n",
        "  2. Doubly Linked List: To maintain usage order"
      ],
      "metadata": {
        "id": "dCc4ll1Txrv_"
      }
    },
    {
      "cell_type": "code",
      "source": [
        "class DLinkedNode:\n",
        "    def __init__(self, key=0, value=0):\n",
        "        self.key = key\n",
        "        self.value = value\n",
        "        self.prev = None\n",
        "        self.next = None\n",
        "\n",
        "class LRUCache:\n",
        "    def __init__(self, capacity: int):\n",
        "        self.cache = {}\n",
        "        self.capacity = capacity\n",
        "        self.head = DLinkedNode()  # dummy head\n",
        "        self.tail = DLinkedNode()  # dummy tail\n",
        "        self.head.next = self.tail\n",
        "        self.tail.prev = self.head\n",
        "\n",
        "    def _add_node(self, node):\n",
        "        # Always add new node right after head\n",
        "        node.prev = self.head\n",
        "        node.next = self.head.next\n",
        "        self.head.next.prev = node\n",
        "        self.head.next = node\n",
        "\n",
        "    def _remove_node(self, node):\n",
        "        # Remove an existing node\n",
        "        prev = node.prev\n",
        "        new = node.next\n",
        "        prev.next = new\n",
        "        new.prev = prev\n",
        "\n",
        "    def _move_to_head(self, node):\n",
        "        # Move node to head (most recently used)\n",
        "        self._remove_node(node)\n",
        "        self._add_node(node)\n",
        "\n",
        "    def _pop_tail(self):\n",
        "        # Pop the current tail (least recently used)\n",
        "        res = self.tail.prev\n",
        "        self._remove_node(res)\n",
        "        return res\n",
        "\n",
        "    def get(self, key: int) -> int:\n",
        "        node = self.cache.get(key, None)\n",
        "        if not node:\n",
        "            return -1\n",
        "        self._move_to_head(node)\n",
        "        return node.value\n",
        "\n",
        "    def put(self, key: int, value: int) -> None:\n",
        "        node = self.cache.get(key, None)\n",
        "        if not node:\n",
        "            new_node = DLinkedNode(key, value)\n",
        "            self.cache[key] = new_node\n",
        "            self._add_node(new_node)\n",
        "            if len(self.cache) > self.capacity:\n",
        "                tail = self._pop_tail()\n",
        "                del self.cache[tail.key]\n",
        "        else:\n",
        "            node.value = value\n",
        "            self._move_to_head(node)\n",
        "\n",
        "LRUCACHE = LRUCache(3)\n",
        "LRUCACHE.put(1,1)\n",
        "LRUCACHE.put(2,2)\n",
        "print(LRUCACHE.get(1))\n",
        "LRUCACHE.put(3,3)\n",
        "print(LRUCACHE.get(2))\n",
        "LRUCACHE.put(4,4)\n",
        "print(LRUCACHE.get(1))\n",
        "print(LRUCACHE.get(3))\n",
        "print(LRUCACHE.get(4))\n",
        "print(LRUCACHE.get(6))"
      ],
      "metadata": {
        "colab": {
          "base_uri": "https://localhost:8080/"
        },
        "id": "OeUY7d0KvvTq",
        "outputId": "bb816884-bb17-43b6-d2ca-12780f374163"
      },
      "execution_count": null,
      "outputs": [
        {
          "output_type": "stream",
          "name": "stdout",
          "text": [
            "1\n",
            "2\n",
            "-1\n",
            "3\n",
            "4\n",
            "-1\n"
          ]
        }
      ]
    },
    {
      "cell_type": "code",
      "source": [
        "# 4. Performance Considerations\n",
        "# Average time complexity for dictionary operations:\n",
        "\n",
        "  # Access: O(1)\n",
        "\n",
        "  # Insert: O(1)\n",
        "\n",
        "  # Delete: O(1)\n",
        "\n",
        "  # Search: O(1)\n",
        "\n",
        "  # Worst-case time complexity (due to hash collisions): O(n)\n",
        "\n",
        "  # Dictionaries consume more memory than lists due to hash table implementation\n",
        "\n",
        "\n",
        "# 5. Best Practices\n",
        "  # Use .get() method when you're unsure if a key exists\n",
        "\n",
        "  # Prefer dictionary comprehensions for creating dictionaries from iterables\n",
        "\n",
        "  # Use collections.defaultdict when you need default values\n",
        "\n",
        "  # For ordered dictionaries (Python 3.7+), regular dictionaries maintain insertion order\n",
        "\n",
        "  # Consider memory usage when working with large dictionaries\n"
      ],
      "metadata": {
        "id": "VBVqsXAfrX9u"
      },
      "execution_count": null,
      "outputs": []
    },
    {
      "cell_type": "markdown",
      "source": [
        "- Dictionary Methods: items(), keys(), values(), and others"
      ],
      "metadata": {
        "id": "pGLzyxSKyE6K"
      }
    },
    {
      "cell_type": "code",
      "source": [
        "books = {\n",
        "    'book1': 'A Tale of Two Cities',\n",
        "    'book2': 'To Kill a Mockingbird',\n",
        "    'book3': '1984',\n",
        "    'book4': 'Pride and Prejudice',\n",
        "    'book5': 'The Great Gatsby',\n",
        "    'book6': 'The Catcher in the Rye',\n",
        "    'book7': 'The Lord of the Rings',\n",
        "    'book8': 'Harry Potter and the Sorcerer\\'s Stone',\n",
        "}"
      ],
      "metadata": {
        "id": "q3YKUtz4yEgr"
      },
      "execution_count": null,
      "outputs": []
    },
    {
      "cell_type": "code",
      "source": [
        "all_books = books.items()\n",
        "# all_books now holds: dict_items([('book1', 'A Tale of Two Cities'), ('book2', 'To Kill a Mockingbird'), ('book3', '1984')])\n",
        "\n",
        "all_keys = books.keys()\n",
        "# all_keys\n",
        "\n",
        "all_values = books.values()\n",
        "# all_values\n",
        "\n",
        "print(all_books)\n",
        "print(all_keys)\n",
        "print(all_values)"
      ],
      "metadata": {
        "colab": {
          "base_uri": "https://localhost:8080/"
        },
        "id": "9j1TsJbEycKC",
        "outputId": "14664bd1-2ddd-4b1f-ea54-fd82b593861b"
      },
      "execution_count": null,
      "outputs": [
        {
          "output_type": "stream",
          "name": "stdout",
          "text": [
            "dict_items([('book1', 'A Tale of Two Cities'), ('book2', 'To Kill a Mockingbird'), ('book3', '1984'), ('book4', 'Pride and Prejudice'), ('book5', 'The Great Gatsby'), ('book6', 'The Catcher in the Rye'), ('book7', 'The Lord of the Rings'), ('book8', \"Harry Potter and the Sorcerer's Stone\")])\n",
            "dict_keys(['book1', 'book2', 'book3', 'book4', 'book5', 'book6', 'book7', 'book8'])\n",
            "dict_values(['A Tale of Two Cities', 'To Kill a Mockingbird', '1984', 'Pride and Prejudice', 'The Great Gatsby', 'The Catcher in the Rye', 'The Lord of the Rings', \"Harry Potter and the Sorcerer's Stone\"])\n"
          ]
        }
      ]
    },
    {
      "cell_type": "code",
      "source": [
        "for key,value in books.items():\n",
        "    print(key, \" : \",value)"
      ],
      "metadata": {
        "colab": {
          "base_uri": "https://localhost:8080/"
        },
        "id": "Dm8ITpPayz7r",
        "outputId": "204cb397-286b-4312-ec16-a8aec822fa88"
      },
      "execution_count": null,
      "outputs": [
        {
          "output_type": "stream",
          "name": "stdout",
          "text": [
            "book1  :  A Tale of Two Cities\n",
            "book2  :  To Kill a Mockingbird\n",
            "book3  :  1984\n",
            "book4  :  Pride and Prejudice\n",
            "book5  :  The Great Gatsby\n",
            "book6  :  The Catcher in the Rye\n",
            "book7  :  The Lord of the Rings\n",
            "book8  :  Harry Potter and the Sorcerer's Stone\n"
          ]
        }
      ]
    },
    {
      "cell_type": "markdown",
      "source": [
        "All Functionalites\n",
        "  - View all books\n",
        "\n",
        "  - Search for books\n",
        "\n",
        "  - Add new books\n",
        "\n",
        "  - Update book details\n",
        "\n",
        "  - Remove books"
      ],
      "metadata": {
        "id": "BZ4jpKCN28eZ"
      }
    },
    {
      "cell_type": "code",
      "source": [
        "# 1. Initialize the Library Catalog\n",
        "library = {\n",
        "    \"B001\": {\"title\": \"The Hobbit\", \"author\": \"J.R.R. Tolkien\", \"year\": 1937},\n",
        "    \"B002\": {\"title\": \"1984\", \"author\": \"George Orwell\", \"year\": 1949},\n",
        "    \"B003\": {\"title\": \"To Kill a Mockingbird\", \"author\": \"Harper Lee\", \"year\": 1960}\n",
        "}"
      ],
      "metadata": {
        "id": "307Gu9vs27HC"
      },
      "execution_count": null,
      "outputs": []
    },
    {
      "cell_type": "code",
      "source": [
        "# 2. Display All Books Using items()\n",
        "def display_books():\n",
        "    print(\"\\n📚 **Library Catalog** 📚\")\n",
        "    print(\"-------------------------\")\n",
        "    if not library:\n",
        "        print(\"The library is empty.\")\n",
        "    else:\n",
        "        for book_id, details in library.items():\n",
        "            print(f\"ID: {book_id}\")\n",
        "            print(f\"Title: {details['title']}\")\n",
        "            print(f\"Author: {details['author']}\")\n",
        "            print(f\"Year: {details['year']}\")\n",
        "            print(\"-------------------------\")"
      ],
      "metadata": {
        "id": "XTjLhcw-3WRX"
      },
      "execution_count": null,
      "outputs": []
    },
    {
      "cell_type": "code",
      "source": [
        "# 3. Search for a Book Using keys() and get()\n",
        "def search_book():\n",
        "    book_id = input(\"\\n🔍 Enter Book ID: \").strip().upper()\n",
        "    if book_id in library.keys():\n",
        "        book = library.get(book_id)\n",
        "        print(f\"\\n📖 Found Book:\")\n",
        "        print(f\"Title: {book['title']}\")\n",
        "        print(f\"Author: {book['author']}\")\n",
        "        print(f\"Year: {book['year']}\")\n",
        "    else:\n",
        "        print(\"❌ Book not found!\")"
      ],
      "metadata": {
        "id": "ZeYT_a1L3eEq"
      },
      "execution_count": null,
      "outputs": []
    },
    {
      "cell_type": "code",
      "source": [
        "# 4. Add a New Book Using update()\n",
        "def add_book():\n",
        "    book_id = input(\"\\n➕ Enter New Book ID (e.g., B004): \").strip().upper()\n",
        "    if book_id in library.keys():\n",
        "        print(\"⚠️ Book ID already exists!\")\n",
        "    else:\n",
        "        title = input(\"📖 Enter Title: \")\n",
        "        author = input(\"✍️ Enter Author: \")\n",
        "        year = input(\"📅 Enter Year: \")\n",
        "        library.update({book_id: {\"title\": title, \"author\": author, \"year\": year}})\n",
        "        print(\"✅ Book added successfully!\")"
      ],
      "metadata": {
        "id": "2Hy8Fcug3sDD"
      },
      "execution_count": null,
      "outputs": []
    },
    {
      "cell_type": "code",
      "source": [
        "# 5. Update a Book Using items()\n",
        "def update_book():\n",
        "    book_id = input(\"\\n✏️ Enter Book ID to Update: \").strip().upper()\n",
        "    if book_id in library.keys():\n",
        "        print(\"\\nCurrent Details:\")\n",
        "        print(f\"Title: {library[book_id]['title']}\")\n",
        "        print(f\"Author: {library[book_id]['author']}\")\n",
        "        print(f\"Year: {library[book_id]['year']}\")\n",
        "\n",
        "        new_title = input(\"\\n📖 Enter New Title (or press Enter to skip): \")\n",
        "        new_author = input(\"✍️ Enter New Author (or press Enter to skip): \")\n",
        "        new_year = input(\"📅 Enter New Year (or press Enter to skip): \")\n",
        "\n",
        "        if new_title:\n",
        "            library[book_id]['title'] = new_title\n",
        "        if new_author:\n",
        "            library[book_id]['author'] = new_author\n",
        "        if new_year:\n",
        "            library[book_id]['year'] = new_year\n",
        "\n",
        "        print(\"✅ Book updated successfully!\")\n",
        "    else:\n",
        "        print(\"❌ Book not found!\")"
      ],
      "metadata": {
        "id": "uMmEmITy31lx"
      },
      "execution_count": null,
      "outputs": []
    },
    {
      "cell_type": "code",
      "source": [
        "# 6. Remove a Book Using pop()\n",
        "def remove_book():\n",
        "    book_id = input(\"\\n🗑️ Enter Book ID to Remove: \").strip().upper()\n",
        "    if book_id in library.keys():\n",
        "        removed_book = library.pop(book_id)\n",
        "        print(f\"❌ Removed: {removed_book['title']}\")\n",
        "    else:\n",
        "        print(\"⚠️ Book not found!\")"
      ],
      "metadata": {
        "id": "TYy1cGlf37mS"
      },
      "execution_count": null,
      "outputs": []
    },
    {
      "cell_type": "code",
      "source": [
        "# 7. List All Book Titles Using values()\n",
        "def list_titles():\n",
        "    print(\"\\n📖 **All Book Titles**\")\n",
        "    print(\"---------------------\")\n",
        "    for book in library.values():\n",
        "        print(book['title'])\n",
        "    print(\"---------------------\")"
      ],
      "metadata": {
        "id": "G9Xdv81w4BpL"
      },
      "execution_count": null,
      "outputs": []
    },
    {
      "cell_type": "code",
      "source": [
        "# 8. Main Menu (User Interaction)\n",
        "def main():\n",
        "    while True:\n",
        "        print(\"\\n🏛️ **Library Catalog Manager** 🏛️\")\n",
        "        print(\"1️⃣ View All Books\")\n",
        "        print(\"2️⃣ Search a Book\")\n",
        "        print(\"3️⃣ Add a New Book\")\n",
        "        print(\"4️⃣ Update a Book\")\n",
        "        print(\"5️⃣ Remove a Book\")\n",
        "        print(\"6️⃣ List All Titles\")\n",
        "        print(\"7️⃣ Exit\")\n",
        "\n",
        "        choice = input(\"\\nChoose an option (1-7): \")\n",
        "\n",
        "        if choice == \"1\":\n",
        "            display_books()\n",
        "        elif choice == \"2\":\n",
        "            search_book()\n",
        "        elif choice == \"3\":\n",
        "            add_book()\n",
        "        elif choice == \"4\":\n",
        "            update_book()\n",
        "        elif choice == \"5\":\n",
        "            remove_book()\n",
        "        elif choice == \"6\":\n",
        "            list_titles()\n",
        "        elif choice == \"7\":\n",
        "            print(\"👋 Exiting...\")\n",
        "            break\n",
        "        else:\n",
        "            print(\"❌ Invalid choice! Try again.\")\n",
        "\n",
        "if __name__ == \"__main__\":\n",
        "    main()"
      ],
      "metadata": {
        "colab": {
          "base_uri": "https://localhost:8080/"
        },
        "id": "zVSBLtYh4Gpw",
        "outputId": "a1911ad0-2da1-4271-d293-3ed442e7f53c"
      },
      "execution_count": null,
      "outputs": [
        {
          "output_type": "stream",
          "name": "stdout",
          "text": [
            "\n",
            "🏛️ **Library Catalog Manager** 🏛️\n",
            "1️⃣ View All Books\n",
            "2️⃣ Search a Book\n",
            "3️⃣ Add a New Book\n",
            "4️⃣ Update a Book\n",
            "5️⃣ Remove a Book\n",
            "6️⃣ List All Titles\n",
            "7️⃣ Exit\n",
            "\n",
            "Choose an option (1-7): 1\n",
            "\n",
            "📚 **Library Catalog** 📚\n",
            "-------------------------\n",
            "ID: B001\n",
            "Title: The Hobbit\n",
            "Author: J.R.R. Tolkien\n",
            "Year: 1937\n",
            "-------------------------\n",
            "ID: B002\n",
            "Title: 1984\n",
            "Author: George Orwell\n",
            "Year: 1949\n",
            "-------------------------\n",
            "ID: B003\n",
            "Title: To Kill a Mockingbird\n",
            "Author: Harper Lee\n",
            "Year: 1960\n",
            "-------------------------\n",
            "\n",
            "🏛️ **Library Catalog Manager** 🏛️\n",
            "1️⃣ View All Books\n",
            "2️⃣ Search a Book\n",
            "3️⃣ Add a New Book\n",
            "4️⃣ Update a Book\n",
            "5️⃣ Remove a Book\n",
            "6️⃣ List All Titles\n",
            "7️⃣ Exit\n",
            "\n",
            "Choose an option (1-7): 2\n",
            "\n",
            "🔍 Enter Book ID: B002\n",
            "\n",
            "📖 Found Book:\n",
            "Title: 1984\n",
            "Author: George Orwell\n",
            "Year: 1949\n",
            "\n",
            "🏛️ **Library Catalog Manager** 🏛️\n",
            "1️⃣ View All Books\n",
            "2️⃣ Search a Book\n",
            "3️⃣ Add a New Book\n",
            "4️⃣ Update a Book\n",
            "5️⃣ Remove a Book\n",
            "6️⃣ List All Titles\n",
            "7️⃣ Exit\n",
            "\n",
            "Choose an option (1-7): 7\n",
            "👋 Exiting...\n"
          ]
        }
      ]
    },
    {
      "cell_type": "markdown",
      "source": [
        "- Mastering Element Counting with Python HashMaps"
      ],
      "metadata": {
        "id": "dUtaL0Cdpkqb"
      }
    },
    {
      "cell_type": "code",
      "source": [
        "colors = ['red', 'blue', 'red', 'green', 'blue', 'blue']\n",
        "color_dict = {}\n",
        "\n",
        "# Start the loop to iterate over each color\n",
        "for color in colors:\n",
        "\n",
        "    # If the color is present in our dictionary, increment its value by 1\n",
        "    if color in color_dict:\n",
        "        color_dict[color] += 1\n",
        "\n",
        "    # If the color isn't present, it means we're encountering this color in our list for the first time. In this case, we add it to our dictionary and set its value to 1\n",
        "    else:\n",
        "        color_dict[color] = 1\n",
        "\n",
        "# At the end of the loop, print our dictionary with counts\n",
        "print(color_dict)\n",
        "# prints {'red': 2, 'blue': 3, 'green': 1}"
      ],
      "metadata": {
        "colab": {
          "base_uri": "https://localhost:8080/"
        },
        "id": "S5j0AMfcpc1J",
        "outputId": "c9ff25de-7066-495c-b425-d769199157e8"
      },
      "execution_count": null,
      "outputs": [
        {
          "output_type": "stream",
          "name": "stdout",
          "text": [
            "{'red': 2, 'blue': 3, 'green': 1}\n"
          ]
        }
      ]
    },
    {
      "cell_type": "code",
      "source": [
        "colors = ['red', 'blue', 'red', 'green', 'blue', 'blue']\n",
        "color_dict = {}\n",
        "\n",
        "# Start the loop to iterate over each color\n",
        "for color in colors:\n",
        "\n",
        "    # Get the value of the color key if it exists, otherwise use a default value of 0. Then increment the value by 1\n",
        "    color_dict[color] = color_dict.get(color, 0) + 1\n",
        "\n",
        "# At the end of the loop, print our dictionary with counts\n",
        "print(color_dict)\n",
        "# prints {'red': 2, 'blue': 3, 'green': 1}"
      ],
      "metadata": {
        "colab": {
          "base_uri": "https://localhost:8080/"
        },
        "id": "6mmr9NJnqFt0",
        "outputId": "421dfaa1-21af-4fe3-af1f-a87b3294acc4"
      },
      "execution_count": null,
      "outputs": [
        {
          "output_type": "stream",
          "name": "stdout",
          "text": [
            "{'red': 2, 'blue': 3, 'green': 1}\n"
          ]
        }
      ]
    },
    {
      "cell_type": "markdown",
      "source": [
        "- Time Complexity Analysis:\n",
        "\n",
        ">The time complexity of our approach is\n",
        "O(n), where n is the number of elements in our list. This is because we iterate over our list exactly once, performing constant-time operations for each element. Here is why:\n",
        "\n",
        ">Dictionary accesses (both setting a value and getting a value) in Python are typically O(1), constant time operations.\n",
        "The for loop iterates over each element in the list exactly once, so it's O(n) operation.\n",
        "\n",
        ">The total time complexity, therefore, remains\n",
        "O(n) because the time taken is directly proportional to the number of items in the list. As the size of the list increases, the time taken scales linearly, making this approach efficient for larger collections.\n",
        "\n",
        ">It is also worth noting that the space complexity of this approach is\n",
        "O(k), where k is the number of unique elements in the list. In the worst case scenario, where all elements are unique, the space complexity would be O(n).\n",
        "\n",
        "In conclusion, using hashmaps or dictionaries for counting is a time-efficient approach, especially when working with large datasets."
      ],
      "metadata": {
        "id": "l39xIgVwqXZs"
      }
    },
    {
      "cell_type": "markdown",
      "source": [
        "- Aggregating Essentials: Mastering HashMaps in Python"
      ],
      "metadata": {
        "id": "8eYgsDupmg90"
      }
    },
    {
      "cell_type": "code",
      "source": [
        "# Practice: Summing Values in a HashMap\n",
        "fruit_basket = {\"apples\": 5, \"bananas\": 4, \"oranges\": 8}\n",
        "# A dictionary representing our fruit basket\n",
        "print(\"total sum of the fruits: \",sum(fruit_basket.values()))\n",
        "print(\"length of the basket: \",len(fruit_basket))\n",
        "print(f\"average of the fruits: \",sum(fruit_basket.values())/ len(fruit_basket))\n",
        "print(\"Max fruits: \", max(fruit_basket,key = fruit_basket.get))\n",
        "print(\"Min fruits: \", min(fruit_basket,key= fruit_basket.get))\n",
        "#"
      ],
      "metadata": {
        "id": "_9pRO-JeqXDu",
        "colab": {
          "base_uri": "https://localhost:8080/"
        },
        "outputId": "9f967c7a-f303-47b1-dae9-4eb73377190d"
      },
      "execution_count": 14,
      "outputs": [
        {
          "output_type": "stream",
          "name": "stdout",
          "text": [
            "total sum of the fruits:  17\n",
            "length of the basket:  3\n",
            "average of the fruits:  5.666666666666667\n",
            "Max fruits:  oranges\n",
            "Min fruits:  bananas\n"
          ]
        }
      ]
    }
  ]
}