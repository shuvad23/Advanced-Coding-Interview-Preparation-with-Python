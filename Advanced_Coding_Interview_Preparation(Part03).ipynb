{
  "nbformat": 4,
  "nbformat_minor": 0,
  "metadata": {
    "colab": {
      "provenance": [],
      "authorship_tag": "ABX9TyOecm2YNtmJZ5u6ElWvd2WG",
      "include_colab_link": true
    },
    "kernelspec": {
      "name": "python3",
      "display_name": "Python 3"
    },
    "language_info": {
      "name": "python"
    }
  },
  "cells": [
    {
      "cell_type": "markdown",
      "metadata": {
        "id": "view-in-github",
        "colab_type": "text"
      },
      "source": [
        "<a href=\"https://colab.research.google.com/github/shuvad23/Advanced-Coding-Interview-Preparation-with-Python/blob/main/Advanced_Coding_Interview_Preparation(Part03).ipynb\" target=\"_parent\"><img src=\"https://colab.research.google.com/assets/colab-badge.svg\" alt=\"Open In Colab\"/></a>"
      ]
    },
    {
      "cell_type": "markdown",
      "source": [
        ">Imagine a social networking application that allows users to form groups. Each group has a unique ID ranging from 1 up to n, the total number of groups. Interestingly, the app keeps track of when a group is created and deleted, logging all these actions in a string."
      ],
      "metadata": {
        "id": "afnLmJFq2LD6"
      }
    },
    {
      "cell_type": "code",
      "execution_count": null,
      "metadata": {
        "colab": {
          "base_uri": "https://localhost:8080/"
        },
        "id": "FfEtw-FSqHL1",
        "outputId": "c4ac5ca1-3cbf-4ced-cda3-77bbfc5b8fc1"
      },
      "outputs": [
        {
          "output_type": "stream",
          "name": "stdout",
          "text": [
            "[(2, '05:00')]\n"
          ]
        }
      ],
      "source": [
        "from datetime import datetime, timedelta\n",
        "\n",
        "\n",
        "def analyze_logs(logs):\n",
        "    log_list = logs.split(\", \")\n",
        "    time_dict = {}  #Dictionary to record the creation moment for each group\n",
        "    life_dict = {}  #Dictionary to record the lifetime for each group\n",
        "    format = '%H:%M'  #The expected timestamp format\n",
        "\n",
        "    for log in log_list:\n",
        "        G_ID, action, time = log.split()\n",
        "        G_ID = int(G_ID)  #Casting the group's ID from string to integer\n",
        "        time = datetime.strptime(time, format)  #Casting the timestamp from string to datetime object\n",
        "\n",
        "        if action == 'create':\n",
        "            time_dict[G_ID] = time  #If the group is created, log the creation time.\n",
        "        else:\n",
        "            if G_ID in time_dict:\n",
        "                #If the group is deleted, calculate its total lifetime and remove it from the creation records.\n",
        "                duration = time - time_dict[G_ID]  # This returns a timedelta object\n",
        "                life_dict[G_ID] = life_dict.get(G_ID, timedelta(0)) + duration\n",
        "                del time_dict[G_ID]\n",
        "\n",
        "    max_life = max(life_dict.values())  #Find the longest lifetime\n",
        "    #Build the result list where each item is a tuple of group ID and its lifetime, if it has the longest lifetime.\n",
        "    result = [(ID, f\"{life.seconds // 3600:02d}:{(life.seconds // 60) % 60:02d}\") for ID, life in\n",
        "              life_dict.items() if life == max_life]\n",
        "\n",
        "    return sorted(result)  #Return the list sorted in ascending order of the group IDs\n",
        "print(analyze_logs(\"1 create 09:00, 2 create 10:00, 1 delete 12:00, 3 create 13:00, 2 delete 15:00, 3 delete 16:00\"))"
      ]
    },
    {
      "cell_type": "markdown",
      "source": [
        ">Imagine you have a large mailbox that receives emails from various sources and you need to organize these emails. Your task involves implementing a Python function named organize_inbox(). This function will accept a string of emails as input and output a list of tuples. Each tuple contains two elements: the sender's email address and the total count of emails received from this sender.\n",
        "\n",
        ">Each email is represented by various metadata separated by commas, such as \"Sender Email Address, Subject, Timestamp\". The total string comprises these entries, separated by semicolons. Emails originate from distinct senders and can occur at any timestamp in the \"HH:MM\" format within a 24-hour range.\n",
        "\n",
        ">Here is the format of the string: \"Sender Email Address1, Subject1, 09:00; Sender Email Address2, Subject2, 10:00; Sender Email Address1, Subject3, 12:00\"\n",
        "\n",
        "The function should return: [(\"Sender Email Address1\", 2), (\"Sender Email Address2\", 1)].\n",
        "\n",
        ">For each input entry, the sender's email is a string containing up to\n",
        "20\n",
        "20 characters. The timestamp follows the \"HH:MM\" format. The total number of email entries varies from\n",
        "1\n",
        "1 to\n",
        "500\n",
        "500, inclusive.\n",
        "\n",
        ">Your function must extract the sender's email address and count the number of emails received from each sender, outputting a list of tuples. Each tuple should contain the sender's email address, followed by the count of emails received from them. The tuples should be sorted by the descending order of these counts. If two senders have sent the same number of emails, the tuples should be listed in ascending order based on the senders' email addresses.\n",
        "\n",
        ">The sender's email address is always followed by a comma, a space, and the start of the subject line. The subject line is always followed by a comma, a space, and the timestamp. All emails are unique, meaning there will be no emails with the same subject and timestamp from the same sender."
      ],
      "metadata": {
        "id": "lBArkOwIbJPx"
      }
    },
    {
      "cell_type": "code",
      "source": [
        "def count_emails(data: str):\n",
        "    # Split by semicolon to get each email entry\n",
        "    entries = [e.strip() for e in data.split(';') if e.strip()]\n",
        "\n",
        "    sender_count = {}\n",
        "\n",
        "    for entry in entries:\n",
        "        # Split into sender, subject, timestamp\n",
        "        parts = entry.split(', ')\n",
        "        sender_email = parts[0]  # sender is always the first part\n",
        "        sender_count[sender_email] = sender_count.get(sender_email, 0) + 1\n",
        "\n",
        "    # Sort: by count (descending) then sender email (ascending)\n",
        "    sorted_counts = sorted(sender_count.items(), key=lambda x: (-x[1], x[0]))\n",
        "\n",
        "    return sorted_counts\n",
        "\n",
        "\n",
        "# Example usage:\n",
        "data = \"Sender Email Address1, Subject1, 09:00; Sender Email Address2, Subject2, 10:00; Sender Email Address1, Subject3, 12:00\"\n",
        "print(count_emails(data))\n"
      ],
      "metadata": {
        "colab": {
          "base_uri": "https://localhost:8080/"
        },
        "id": "b9YEuq8Mwwco",
        "outputId": "76e844b9-bb81-4b1f-e76a-1e54e7f6244a"
      },
      "execution_count": 3,
      "outputs": [
        {
          "output_type": "stream",
          "name": "stdout",
          "text": [
            "['Sender Email Address1, Subject1, 09:00', 'Sender Email Address2, Subject2, 10:00', 'Sender Email Address1, Subject3, 12:00']\n",
            "None\n"
          ]
        }
      ]
    },
    {
      "cell_type": "markdown",
      "source": [
        ">There is a school hosting an online programming competition. Each problem is assigned a unique level of difficulty. Every time a student successfully solves a problem, their score is updated based on the problem's difficulty level. However, if a student makes an unsuccessful attempt, they incur a penalty. The competition logs every action of each student in a string.\n",
        "\n",
        ">Your task is to create a Python function named analyze_competition(). It will take a string of logs as input and output a list of tuples, representing the students' score, the number of successful attempts, and the total penalties. The tuples should be sorted by the decreasing order of scores of their respective students. It is guaranteed that there will be no students with the same positive score. Don't include students in the output who haven't solved any problem.\n",
        "\n",
        ">For example, if you have logs like this:\n",
        "\"1 solve 09:00 50, 2 solve 10:00 60, 1 fail 11:00, 3 solve 13:00 40, 2 fail 14:00, 3 solve 15:00 70\",\n",
        "your function should return: [(3, 110, 2, 0), (2, 60, 1, 1), (1, 50, 1, 1)].\n",
        "\n",
        ">All log entries are separated by a comma and a space. It is guaranteed that the log entries are sorted in chronological order."
      ],
      "metadata": {
        "id": "bjB6GSNNcYSc"
      }
    },
    {
      "cell_type": "code",
      "source": [
        "def analyze_competition(logs):\n",
        "    # TODO: implement the function\n",
        "    logs = logs.split(\", \")\n",
        "    student_dict = {}\n",
        "\n",
        "    for log in logs:\n",
        "        items = log.split()\n",
        "        index_num = int(items[0])\n",
        "        if items[1] == 'solve':\n",
        "            score = int(items[3])\n",
        "            student_dict[index_num] = student_dict.get(index_num, [0, 0, 0])\n",
        "            student_dict[index_num][0] += score\n",
        "            student_dict[index_num][1] += 1\n",
        "        else:\n",
        "            student_dict[index_num] = student_dict.get(index_num, [0, 0, 0])\n",
        "            student_dict[index_num][2] +=1\n",
        "    sorted_items = sorted([(key, values[0], values[1], values[2]) for key, values in student_dict.items() if values[1] > 0], key = lambda x:x[1], reverse = True)\n",
        "    return sorted_items\n",
        "\n",
        "    pass\n",
        "\n",
        "logs = \"1 solve 09:00 50, 2 solve 10:00 60, 1 fail 11:00, 3 solve 13:00 40, 2 fail 14:00, 3 solve 15:00 70\"\n",
        "print(analyze_competition(logs))"
      ],
      "metadata": {
        "colab": {
          "base_uri": "https://localhost:8080/"
        },
        "id": "3RFc89Amb-mN",
        "outputId": "01cda5a7-93fb-4b33-a247-6e5e37839d0a"
      },
      "execution_count": 15,
      "outputs": [
        {
          "output_type": "stream",
          "name": "stdout",
          "text": [
            "[(3, 110, 2, 0), (2, 60, 1, 1), (1, 50, 1, 1)]\n"
          ]
        }
      ]
    },
    {
      "cell_type": "markdown",
      "source": [
        ">You are provided with log data from a library's digital system, stored in string format. The log represents books' borrowing activities, including the book ID and the time a book is borrowed and returned. The structure of a log entry is as follows: <book_id> borrow <time>, <book_id> return <time>.\n",
        "\n",
        ">The time is given in the HH:MM 24-hour format, and the book ID is a positive integer between 1 and 500. The logs are separated by a comma, followed by a space (\", \").\n",
        "\n",
        ">Your task is to create a Python function named solution(). This function will take as input a string of logs and output a list of tuples representing the books with the longest borrowed duration. Each tuple contains two items: the book ID and the book's borrowed duration. By 'borrowed duration,' we mean the period from when the book was borrowed until it was returned. If a book has been borrowed and returned multiple times, the borrowed duration is the total cumulative sum of those durations. If multiple books share the same longest borrowed duration, the function should return all such books in ascending order of their IDs.\n",
        "\n",
        ">For example, if we have a log string as follows: \"1 borrow 09:00, 2 borrow 10:00, 1 return 12:00, 3 borrow 13:00, 2 return 15:00, 3 return 16:00\",\n",
        "the function will return: [(2, '05:00')].\n",
        "\n",
        ">Note: You can safely assume that all borrowing actions for a given book will have a corresponding return action in the log, and vice versa. Also, the logs are sorted by the time of the action."
      ],
      "metadata": {
        "id": "KgmJ5oxrn8kP"
      }
    },
    {
      "cell_type": "code",
      "source": [
        "from datetime import datetime, timedelta\n",
        "def solution(logs):\n",
        "    # TODO: your code goes here\n",
        "    logs = [e.strip() for e in logs.split(\", \") if e.strip]\n",
        "    borrow_time = {}\n",
        "    life_time = {}\n",
        "    format = '%H:%M'\n",
        "    for log in logs:\n",
        "        index, status, time = log.split()\n",
        "        index = int(index)\n",
        "        time = datetime.strptime(time,format)\n",
        "        if status == 'borrow':\n",
        "            borrow_time[index] = time\n",
        "        else:\n",
        "            if index in borrow_time:\n",
        "                duration = time - borrow_time[index]\n",
        "                life_time[index] = life_time.get(index, timedelta(0)) + duration\n",
        "                del borrow_time[index]\n",
        "    max_result = max(life_time.values())\n",
        "    result = [(index, f\"{life.seconds // 3600:02d}:{(life.seconds // 60) % 60:02d}\") for index, life in life_time.items() if life == max_result]\n",
        "    return sorted(result)\n",
        "logs = \"1 borrow 09:00, 2 borrow 10:00, 1 return 12:00, 3 borrow 13:00, 2 return 15:00, 3 return 16:00\"\n",
        "print(solution(logs))"
      ],
      "metadata": {
        "colab": {
          "base_uri": "https://localhost:8080/"
        },
        "id": "EFWbfPWbnaXQ",
        "outputId": "c55f7f5e-d14b-4d1b-a209-638304515cd5"
      },
      "execution_count": 17,
      "outputs": [
        {
          "output_type": "stream",
          "name": "stdout",
          "text": [
            "[(2, '05:00')]\n"
          ]
        }
      ]
    }
  ]
}