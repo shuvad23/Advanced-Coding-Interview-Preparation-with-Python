{
  "nbformat": 4,
  "nbformat_minor": 0,
  "metadata": {
    "colab": {
      "provenance": [],
      "authorship_tag": "ABX9TyN2FVeQbVJ9vgvIQKuiKx8G",
      "include_colab_link": true
    },
    "kernelspec": {
      "name": "python3",
      "display_name": "Python 3"
    },
    "language_info": {
      "name": "python"
    }
  },
  "cells": [
    {
      "cell_type": "markdown",
      "metadata": {
        "id": "view-in-github",
        "colab_type": "text"
      },
      "source": [
        "<a href=\"https://colab.research.google.com/github/shuvad23/Advanced-Coding-Interview-Preparation-with-Python/blob/main/Advanced_Coding_Interview_Preparation(Part03).ipynb\" target=\"_parent\"><img src=\"https://colab.research.google.com/assets/colab-badge.svg\" alt=\"Open In Colab\"/></a>"
      ]
    },
    {
      "cell_type": "markdown",
      "source": [
        ">Imagine a social networking application that allows users to form groups. Each group has a unique ID ranging from 1 up to n, the total number of groups. Interestingly, the app keeps track of when a group is created and deleted, logging all these actions in a string."
      ],
      "metadata": {
        "id": "afnLmJFq2LD6"
      }
    },
    {
      "cell_type": "code",
      "execution_count": null,
      "metadata": {
        "colab": {
          "base_uri": "https://localhost:8080/"
        },
        "id": "FfEtw-FSqHL1",
        "outputId": "c4ac5ca1-3cbf-4ced-cda3-77bbfc5b8fc1"
      },
      "outputs": [
        {
          "output_type": "stream",
          "name": "stdout",
          "text": [
            "[(2, '05:00')]\n"
          ]
        }
      ],
      "source": [
        "from datetime import datetime, timedelta\n",
        "\n",
        "\n",
        "def analyze_logs(logs):\n",
        "    log_list = logs.split(\", \")\n",
        "    time_dict = {}  #Dictionary to record the creation moment for each group\n",
        "    life_dict = {}  #Dictionary to record the lifetime for each group\n",
        "    format = '%H:%M'  #The expected timestamp format\n",
        "\n",
        "    for log in log_list:\n",
        "        G_ID, action, time = log.split()\n",
        "        G_ID = int(G_ID)  #Casting the group's ID from string to integer\n",
        "        time = datetime.strptime(time, format)  #Casting the timestamp from string to datetime object\n",
        "\n",
        "        if action == 'create':\n",
        "            time_dict[G_ID] = time  #If the group is created, log the creation time.\n",
        "        else:\n",
        "            if G_ID in time_dict:\n",
        "                #If the group is deleted, calculate its total lifetime and remove it from the creation records.\n",
        "                duration = time - time_dict[G_ID]  # This returns a timedelta object\n",
        "                life_dict[G_ID] = life_dict.get(G_ID, timedelta(0)) + duration\n",
        "                del time_dict[G_ID]\n",
        "\n",
        "    max_life = max(life_dict.values())  #Find the longest lifetime\n",
        "    #Build the result list where each item is a tuple of group ID and its lifetime, if it has the longest lifetime.\n",
        "    result = [(ID, f\"{life.seconds // 3600:02d}:{(life.seconds // 60) % 60:02d}\") for ID, life in\n",
        "              life_dict.items() if life == max_life]\n",
        "\n",
        "    return sorted(result)  #Return the list sorted in ascending order of the group IDs\n",
        "print(analyze_logs(\"1 create 09:00, 2 create 10:00, 1 delete 12:00, 3 create 13:00, 2 delete 15:00, 3 delete 16:00\"))"
      ]
    },
    {
      "cell_type": "markdown",
      "source": [
        ">Imagine you have a large mailbox that receives emails from various sources and you need to organize these emails. Your task involves implementing a Python function named organize_inbox(). This function will accept a string of emails as input and output a list of tuples. Each tuple contains two elements: the sender's email address and the total count of emails received from this sender.\n",
        "\n",
        ">Each email is represented by various metadata separated by commas, such as \"Sender Email Address, Subject, Timestamp\". The total string comprises these entries, separated by semicolons. Emails originate from distinct senders and can occur at any timestamp in the \"HH:MM\" format within a 24-hour range.\n",
        "\n",
        ">Here is the format of the string: \"Sender Email Address1, Subject1, 09:00; Sender Email Address2, Subject2, 10:00; Sender Email Address1, Subject3, 12:00\"\n",
        "\n",
        "The function should return: [(\"Sender Email Address1\", 2), (\"Sender Email Address2\", 1)].\n",
        "\n",
        ">For each input entry, the sender's email is a string containing up to\n",
        "20\n",
        "20 characters. The timestamp follows the \"HH:MM\" format. The total number of email entries varies from\n",
        "1\n",
        "1 to\n",
        "500\n",
        "500, inclusive.\n",
        "\n",
        ">Your function must extract the sender's email address and count the number of emails received from each sender, outputting a list of tuples. Each tuple should contain the sender's email address, followed by the count of emails received from them. The tuples should be sorted by the descending order of these counts. If two senders have sent the same number of emails, the tuples should be listed in ascending order based on the senders' email addresses.\n",
        "\n",
        ">The sender's email address is always followed by a comma, a space, and the start of the subject line. The subject line is always followed by a comma, a space, and the timestamp. All emails are unique, meaning there will be no emails with the same subject and timestamp from the same sender."
      ],
      "metadata": {
        "id": "lBArkOwIbJPx"
      }
    },
    {
      "cell_type": "code",
      "source": [
        "def count_emails(data: str):\n",
        "    # Split by semicolon to get each email entry\n",
        "    entries = [e.strip() for e in data.split(';') if e.strip()]\n",
        "\n",
        "    sender_count = {}\n",
        "\n",
        "    for entry in entries:\n",
        "        # Split into sender, subject, timestamp\n",
        "        parts = entry.split(', ')\n",
        "        sender_email = parts[0]  # sender is always the first part\n",
        "        sender_count[sender_email] = sender_count.get(sender_email, 0) + 1\n",
        "\n",
        "    # Sort: by count (descending) then sender email (ascending)\n",
        "    sorted_counts = sorted(sender_count.items(), key=lambda x: (-x[1], x[0]))\n",
        "\n",
        "    return sorted_counts\n",
        "\n",
        "\n",
        "# Example usage:\n",
        "data = \"Sender Email Address1, Subject1, 09:00; Sender Email Address2, Subject2, 10:00; Sender Email Address1, Subject3, 12:00\"\n",
        "print(count_emails(data))\n"
      ],
      "metadata": {
        "colab": {
          "base_uri": "https://localhost:8080/"
        },
        "id": "b9YEuq8Mwwco",
        "outputId": "76e844b9-bb81-4b1f-e76a-1e54e7f6244a"
      },
      "execution_count": null,
      "outputs": [
        {
          "output_type": "stream",
          "name": "stdout",
          "text": [
            "['Sender Email Address1, Subject1, 09:00', 'Sender Email Address2, Subject2, 10:00', 'Sender Email Address1, Subject3, 12:00']\n",
            "None\n"
          ]
        }
      ]
    },
    {
      "cell_type": "markdown",
      "source": [
        ">There is a school hosting an online programming competition. Each problem is assigned a unique level of difficulty. Every time a student successfully solves a problem, their score is updated based on the problem's difficulty level. However, if a student makes an unsuccessful attempt, they incur a penalty. The competition logs every action of each student in a string.\n",
        "\n",
        ">Your task is to create a Python function named analyze_competition(). It will take a string of logs as input and output a list of tuples, representing the students' score, the number of successful attempts, and the total penalties. The tuples should be sorted by the decreasing order of scores of their respective students. It is guaranteed that there will be no students with the same positive score. Don't include students in the output who haven't solved any problem.\n",
        "\n",
        ">For example, if you have logs like this:\n",
        "\"1 solve 09:00 50, 2 solve 10:00 60, 1 fail 11:00, 3 solve 13:00 40, 2 fail 14:00, 3 solve 15:00 70\",\n",
        "your function should return: [(3, 110, 2, 0), (2, 60, 1, 1), (1, 50, 1, 1)].\n",
        "\n",
        ">All log entries are separated by a comma and a space. It is guaranteed that the log entries are sorted in chronological order."
      ],
      "metadata": {
        "id": "bjB6GSNNcYSc"
      }
    },
    {
      "cell_type": "code",
      "source": [
        "def analyze_competition(logs):\n",
        "    # TODO: implement the function\n",
        "    logs = logs.split(\", \")\n",
        "    student_dict = {}\n",
        "\n",
        "    for log in logs:\n",
        "        items = log.split()\n",
        "        index_num = int(items[0])\n",
        "        if items[1] == 'solve':\n",
        "            score = int(items[3])\n",
        "            student_dict[index_num] = student_dict.get(index_num, [0, 0, 0])\n",
        "            student_dict[index_num][0] += score\n",
        "            student_dict[index_num][1] += 1\n",
        "        else:\n",
        "            student_dict[index_num] = student_dict.get(index_num, [0, 0, 0])\n",
        "            student_dict[index_num][2] +=1\n",
        "    sorted_items = sorted([(key, values[0], values[1], values[2]) for key, values in student_dict.items() if values[1] > 0], key = lambda x:x[1], reverse = True)\n",
        "    return sorted_items\n",
        "\n",
        "    pass\n",
        "\n",
        "logs = \"1 solve 09:00 50, 2 solve 10:00 60, 1 fail 11:00, 3 solve 13:00 40, 2 fail 14:00, 3 solve 15:00 70\"\n",
        "print(analyze_competition(logs))"
      ],
      "metadata": {
        "colab": {
          "base_uri": "https://localhost:8080/"
        },
        "id": "3RFc89Amb-mN",
        "outputId": "01cda5a7-93fb-4b33-a247-6e5e37839d0a"
      },
      "execution_count": null,
      "outputs": [
        {
          "output_type": "stream",
          "name": "stdout",
          "text": [
            "[(3, 110, 2, 0), (2, 60, 1, 1), (1, 50, 1, 1)]\n"
          ]
        }
      ]
    },
    {
      "cell_type": "markdown",
      "source": [
        ">You are provided with log data from a library's digital system, stored in string format. The log represents books' borrowing activities, including the book ID and the time a book is borrowed and returned. The structure of a log entry is as follows: <book_id> borrow <time>, <book_id> return <time>.\n",
        "\n",
        ">The time is given in the HH:MM 24-hour format, and the book ID is a positive integer between 1 and 500. The logs are separated by a comma, followed by a space (\", \").\n",
        "\n",
        ">Your task is to create a Python function named solution(). This function will take as input a string of logs and output a list of tuples representing the books with the longest borrowed duration. Each tuple contains two items: the book ID and the book's borrowed duration. By 'borrowed duration,' we mean the period from when the book was borrowed until it was returned. If a book has been borrowed and returned multiple times, the borrowed duration is the total cumulative sum of those durations. If multiple books share the same longest borrowed duration, the function should return all such books in ascending order of their IDs.\n",
        "\n",
        ">For example, if we have a log string as follows: \"1 borrow 09:00, 2 borrow 10:00, 1 return 12:00, 3 borrow 13:00, 2 return 15:00, 3 return 16:00\",\n",
        "the function will return: [(2, '05:00')].\n",
        "\n",
        ">Note: You can safely assume that all borrowing actions for a given book will have a corresponding return action in the log, and vice versa. Also, the logs are sorted by the time of the action."
      ],
      "metadata": {
        "id": "KgmJ5oxrn8kP"
      }
    },
    {
      "cell_type": "code",
      "source": [
        "from datetime import datetime, timedelta\n",
        "def solution(logs):\n",
        "    # TODO: your code goes here\n",
        "    logs = [e.strip() for e in logs.split(\", \") if e.strip]\n",
        "    borrow_time = {}\n",
        "    life_time = {}\n",
        "    format = '%H:%M'\n",
        "    for log in logs:\n",
        "        index, status, time = log.split()\n",
        "        index = int(index)\n",
        "        time = datetime.strptime(time,format)\n",
        "        if status == 'borrow':\n",
        "            borrow_time[index] = time\n",
        "        else:\n",
        "            if index in borrow_time:\n",
        "                duration = time - borrow_time[index]\n",
        "                life_time[index] = life_time.get(index, timedelta(0)) + duration\n",
        "                del borrow_time[index]\n",
        "    max_result = max(life_time.values())\n",
        "    result = [(index, f\"{life.seconds // 3600:02d}:{(life.seconds // 60) % 60:02d}\") for index, life in life_time.items() if life == max_result]\n",
        "    return sorted(result)\n",
        "logs = \"1 borrow 09:00, 2 borrow 10:00, 1 return 12:00, 3 borrow 13:00, 2 return 15:00, 3 return 16:00\"\n",
        "print(solution(logs))"
      ],
      "metadata": {
        "colab": {
          "base_uri": "https://localhost:8080/"
        },
        "id": "EFWbfPWbnaXQ",
        "outputId": "c55f7f5e-d14b-4d1b-a209-638304515cd5"
      },
      "execution_count": null,
      "outputs": [
        {
          "output_type": "stream",
          "name": "stdout",
          "text": [
            "[(2, '05:00')]\n"
          ]
        }
      ]
    },
    {
      "cell_type": "markdown",
      "source": [
        "- Exploring Diagonal Matrix Traversal Techniques"
      ],
      "metadata": {
        "id": "ZDuNDU3GCpAF"
      }
    },
    {
      "cell_type": "code",
      "source": [
        "import math\n",
        "\n",
        "def diagonal_traverse(matrix):\n",
        "    rows, cols = len(matrix),len(matrix[0])\n",
        "    traversals = []\n",
        "    squre_result = []\n",
        "\n",
        "    row = col = 0\n",
        "    dir = 1\n",
        "\n",
        "    for _ in range(rows * cols):\n",
        "        traversals.append(matrix[row][col])\n",
        "        # Logic to control direction based on edges:\n",
        "        if dir == 1: # for down-left\n",
        "            if row == rows - 1:\n",
        "                col += 1\n",
        "                dir = -1\n",
        "            elif col == 0:\n",
        "                row += 1\n",
        "                dir = -1\n",
        "            else:\n",
        "                row += 1\n",
        "                col -= 1\n",
        "        else: # for up-right\n",
        "            if col == cols - 1:\n",
        "                row += 1\n",
        "                dir = 1\n",
        "            elif row == 0:\n",
        "                col += 1\n",
        "                dir = 1\n",
        "            else:\n",
        "                row -= 1\n",
        "                col += 1\n",
        "    for i in range(len(traversals)):\n",
        "        root = math.sqrt(traversals[i])\n",
        "        if root * root == traversals[i]:\n",
        "            squre_result.append(i)\n",
        "    return traversals, squre_result\n",
        "matrix = [[1,2,3],[4,5,6],[7,8,9]]\n",
        "traversals_result , squre_result =diagonal_traverse(matrix)\n",
        "print(\"Traversals Result : \", traversals_result)\n",
        "print(\"Squre Result : \", squre_result)"
      ],
      "metadata": {
        "colab": {
          "base_uri": "https://localhost:8080/"
        },
        "id": "BoGSLJGb8nAe",
        "outputId": "0e7139f0-427f-4666-d76d-17d348eedfd8"
      },
      "execution_count": null,
      "outputs": [
        {
          "output_type": "stream",
          "name": "stdout",
          "text": [
            "Traversals Result :  [1, 4, 2, 3, 5, 7, 8, 6, 9]\n",
            "Squre Result :  [0, 1, 8]\n"
          ]
        }
      ]
    },
    {
      "cell_type": "code",
      "source": [
        "def solution(transposed):\n",
        "    matrix = [list(row) for row in zip(*transposed)]\n",
        "    # TODO: implement\n",
        "    rows, cols = len(matrix), len(matrix[0])\n",
        "    traversals = []\n",
        "    result = []\n",
        "    negative_value = []\n",
        "    row = col = 0\n",
        "    dir = 1\n",
        "\n",
        "    for _ in range(rows * cols):\n",
        "        value = matrix[row][col]\n",
        "        if value < 0:\n",
        "            negative_value.append(value)\n",
        "        traversals.append(value)\n",
        "        if dir == 1: # down - left\n",
        "            if row == rows - 1:\n",
        "                col += 1\n",
        "                dir = -1\n",
        "            elif col == 0:\n",
        "                row += 1\n",
        "                dir = -1\n",
        "            else:\n",
        "                row += 1\n",
        "                col -= 1\n",
        "        else:\n",
        "            if col == cols - 1:\n",
        "                row += 1\n",
        "                dir = 1\n",
        "            elif row == 0:\n",
        "                col += 1\n",
        "                dir = 1\n",
        "            else:\n",
        "                row -= 1\n",
        "                col += 1\n",
        "\n",
        "    for val in negative_value:\n",
        "        for row in range(len(transposed)):\n",
        "            temp = 0\n",
        "            for col in range(len(transposed[0])):\n",
        "                if transposed[row][col] == val:\n",
        "                    result.append((row,col))\n",
        "                    temp = 1\n",
        "                    break\n",
        "            if temp == 1:\n",
        "                break\n",
        "\n",
        "    return  result\n",
        "\n",
        "matrix = [[1, -2, 3, -4],\n",
        "[5, -6, 7, 8],\n",
        "[-9, 10, -11, 12]]\n",
        "\n",
        "print(solution(matrix))"
      ],
      "metadata": {
        "colab": {
          "base_uri": "https://localhost:8080/"
        },
        "id": "Rc4V3YQlJIeI",
        "outputId": "ecd1e9b5-d83d-439f-f2a9-0e06fb7b87b5"
      },
      "execution_count": null,
      "outputs": [
        {
          "output_type": "stream",
          "name": "stdout",
          "text": [
            "[(0, 1), (2, 0), (1, 1), (0, 3), (2, 2)]\n"
          ]
        }
      ]
    },
    {
      "cell_type": "code",
      "source": [
        "def spiral_traverse_and_vowels(grid):\n",
        "    if not grid or not grid[0]:\n",
        "        return [], []\n",
        "\n",
        "    rows, cols = len(grid), len(grid[0])\n",
        "    result = []\n",
        "    vowels = []\n",
        "    top, bottom, left, right = 0, rows - 1, 0, cols - 1\n",
        "\n",
        "    while top <= bottom and left <= right:\n",
        "        # Traverse top row\n",
        "        for i in range(left, right + 1):\n",
        "            char = grid[top][i]\n",
        "            result.append(char)\n",
        "            if char.lower() in 'aeiou':\n",
        "                vowels.append(char)\n",
        "        top += 1\n",
        "\n",
        "        # Traverse right column\n",
        "        for i in range(top, bottom + 1):\n",
        "            char = grid[i][right]\n",
        "            result.append(char)\n",
        "            if char.lower() in 'aeiou':\n",
        "                vowels.append(char)\n",
        "        right -= 1\n",
        "\n",
        "        # Traverse bottom row\n",
        "        if top <= bottom:\n",
        "            for i in range(right, left - 1, -1):\n",
        "                char = grid[bottom][i]\n",
        "                result.append(char)\n",
        "                if char.lower() in 'aeiou':\n",
        "                    vowels.append(char)\n",
        "            bottom -= 1\n",
        "\n",
        "        # Traverse left column\n",
        "        if left <= right:\n",
        "            for i in range(bottom, top - 1, -1):\n",
        "                char = grid[i][left]\n",
        "                result.append(char)\n",
        "                if char.lower() in 'aeiou':\n",
        "                    vowels.append(char)\n",
        "            left += 1\n",
        "\n",
        "    return result, vowels\n",
        "\n",
        "grid = [['a', 'b', 'c', 'd'],\n",
        "        ['e', 'f', 'g', 'h'],\n",
        "        ['i', 'j', 'k', 'l']]\n",
        "\n",
        "traversal_result, vowels_result = spiral_traverse_and_vowels(grid)\n",
        "print(\"Spiral Traversal:\", traversal_result)\n",
        "print(\"Vowels:\", vowels_result)"
      ],
      "metadata": {
        "colab": {
          "base_uri": "https://localhost:8080/"
        },
        "id": "8IEf49Q4PQ0r",
        "outputId": "17a2048f-16e1-4166-af6f-b8e0b0756c34"
      },
      "execution_count": null,
      "outputs": [
        {
          "output_type": "stream",
          "name": "stdout",
          "text": [
            "Spiral Traversal: ['a', 'b', 'c', 'd', 'h', 'l', 'k', 'j', 'i', 'e', 'f', 'g']\n",
            "Vowels: ['a', 'i', 'e']\n"
          ]
        }
      ]
    },
    {
      "cell_type": "code",
      "source": [
        "def spiral_traverse_and_vowels(grid):\n",
        "    if not grid or not grid[0]:\n",
        "        return [], []\n",
        "\n",
        "    rows, cols = len(grid), len(grid[0])\n",
        "    result = []\n",
        "    vowels = []\n",
        "    top, bottom, left, right = 0, rows - 1, 0, cols - 1\n",
        "\n",
        "    while top <= bottom and left <= right:\n",
        "        # Traverse top row\n",
        "        for i in range(left, right + 1):\n",
        "            char = grid[top][i]\n",
        "            result.append(char)\n",
        "        top += 1\n",
        "\n",
        "        # Traverse right column\n",
        "        for i in range(top, bottom + 1):\n",
        "            char = grid[i][right]\n",
        "            result.append(char)\n",
        "        right -= 1\n",
        "\n",
        "        # Traverse bottom row\n",
        "        if top <= bottom:\n",
        "            for i in range(right, left - 1, -1):\n",
        "                char = grid[bottom][i]\n",
        "                result.append(char)\n",
        "            bottom -= 1\n",
        "\n",
        "        # Traverse left column\n",
        "        if left <= right:\n",
        "            for i in range(bottom, top - 1, -1):\n",
        "                char = grid[i][left]\n",
        "                result.append(char)\n",
        "            left += 1\n",
        "    for i in range(len(result)):\n",
        "        if result[i].lower() in 'aeiou':\n",
        "            vowels.append(i+1)\n",
        "\n",
        "    return vowels\n",
        "\n",
        "grid = [['a', 'b', 'c', 'd'],\n",
        "        ['e', 'f', 'g', 'h'],\n",
        "        ['i', 'j', 'k', 'l']]\n",
        "\n",
        "vowels_result = spiral_traverse_and_vowels(grid)\n",
        "print(\"Vowels:\", vowels_result)"
      ],
      "metadata": {
        "colab": {
          "base_uri": "https://localhost:8080/"
        },
        "id": "Ww7Escj9qJRW",
        "outputId": "b3658223-c627-40f5-b72f-16a37edf43dc"
      },
      "execution_count": null,
      "outputs": [
        {
          "output_type": "stream",
          "name": "stdout",
          "text": [
            "Vowels: [1, 9, 10]\n"
          ]
        }
      ]
    },
    {
      "cell_type": "code",
      "source": [
        "def is_prime(n):\n",
        "    # TODO: implement\n",
        "    if n == 1:\n",
        "        return False\n",
        "    if n == 2:\n",
        "        return True\n",
        "    for i in range(2,n):\n",
        "        if n%i == 0:\n",
        "            return False\n",
        "    return True\n",
        "\n",
        "def zigzag_traverse_and_primes(matrix):\n",
        "    # TODO: implement\n",
        "    rows, cols = len(matrix), len(matrix[0])\n",
        "    result = []\n",
        "    prime = {}\n",
        "    row = 0\n",
        "    while row < rows:\n",
        "        if row % 2 == 0:\n",
        "            for col in range(cols):\n",
        "                result.append(matrix[row][col])\n",
        "        elif row % 2 != 0:\n",
        "            for col in range(cols - 1,-1,-1):\n",
        "                result.append(matrix[row][col])\n",
        "        row += 1\n",
        "    for i, val in enumerate(result):\n",
        "        if is_prime(val):\n",
        "            prime[i] = val\n",
        "    return prime\n",
        "\n",
        "matrix = [\n",
        "    [1, 2, 3],\n",
        "    [4, 5, 6],\n",
        "    [7, 8, 9]\n",
        "]\n",
        "print(zigzag_traverse_and_primes(matrix))"
      ],
      "metadata": {
        "colab": {
          "base_uri": "https://localhost:8080/"
        },
        "id": "gq8bydDNwSmM",
        "outputId": "c7c3df51-d555-4f66-d33f-b67880af298b"
      },
      "execution_count": null,
      "outputs": [
        {
          "output_type": "stream",
          "name": "stdout",
          "text": [
            "{1: 2, 2: 3, 4: 5, 6: 7}\n"
          ]
        }
      ]
    },
    {
      "cell_type": "markdown",
      "source": [
        "- Combining Submatrices for Unified Solutions\n",
        "\n",
        "1️⃣ What’s a submatrix?\n",
        ">A submatrix is just a smaller part of a matrix — like cutting out a rectangle from it.\n",
        "\n",
        "5️⃣ Summary of the task\n",
        "\n",
        "  - Your submatrix_concatenation() function will:\n",
        "\n",
        "  - Take A, B, and coordinate ranges for submatrices.\n",
        "\n",
        "  - Extract the specified submatrices from A and B.\n",
        "\n",
        "  - Combine them horizontally.\n",
        "\n",
        "  - Return the new matrix C."
      ],
      "metadata": {
        "id": "wwH7Wj56l28S"
      }
    },
    {
      "cell_type": "code",
      "source": [
        "def submatrix_concatenation(matrix_A, matrix_B, submatrix_coords):\n",
        "    \"\"\"\n",
        "    Concatenates two submatrices from matrix_A and matrix_B horizontally.\n",
        "\n",
        "    Parameters:\n",
        "        matrix_A (list of lists): First matrix.\n",
        "        matrix_B (list of lists): Second matrix.\n",
        "        submatrix_coords (tuple): Coordinates for submatrices in the form:\n",
        "            (\n",
        "              (start_row_A, end_row_A, start_col_A, end_col_A),\n",
        "              (start_row_B, end_row_B, start_col_B, end_col_B)\n",
        "            )\n",
        "            Coordinates are 1-based inclusive.\n",
        "\n",
        "    Returns:\n",
        "        list of lists: The concatenated submatrix.\n",
        "    \"\"\"\n",
        "\n",
        "    # Unpack coordinates\n",
        "    start_row_A, end_row_A, start_col_A, end_col_A = submatrix_coords[0]\n",
        "    start_row_B, end_row_B, start_col_B, end_col_B = submatrix_coords[1]\n",
        "\n",
        "    # Extract submatrices using slicing\n",
        "    submatrix_A = [row[start_col_A - 1:end_col_A]\n",
        "                   for row in matrix_A[start_row_A - 1:end_row_A]]\n",
        "    submatrix_B = [row[start_col_B - 1:end_col_B]\n",
        "                   for row in matrix_B[start_row_B - 1:end_row_B]]\n",
        "\n",
        "    # Check if they have the same number of rows\n",
        "    if len(submatrix_A) != len(submatrix_B):\n",
        "        raise ValueError(\"Submatrices must have the same number of rows.\")\n",
        "\n",
        "    # Concatenate row-wise\n",
        "    result_matrix = [row_A + row_B for row_A, row_B in zip(submatrix_A, submatrix_B)]\n",
        "\n",
        "    return result_matrix\n",
        "\n",
        "\n",
        "# Example usage\n",
        "A = [\n",
        "    [1, 2, 3, 4],\n",
        "    [5, 6, 7, 8],\n",
        "    [9,10,11,12]\n",
        "]\n",
        "\n",
        "B = [\n",
        "    [13,14,15,16],\n",
        "    [17,18,19,20],\n",
        "    [21,22,23,24]\n",
        "]\n",
        "\n",
        "coords = (\n",
        "    (1, 2, 2, 3),  # From A: rows 1-2, cols 2-3 -> [[2, 3], [6, 7]]\n",
        "    (1, 2, 3, 4)   # From B: rows 1-2, cols 3-4 -> [[15, 16], [19, 20]]\n",
        ")\n",
        "\n",
        "C = submatrix_concatenation(A, B, coords)\n",
        "print(C)  # [[2, 3, 15, 16], [6, 7, 19, 20]]\n"
      ],
      "metadata": {
        "colab": {
          "base_uri": "https://localhost:8080/"
        },
        "id": "yM9Dp01li2c5",
        "outputId": "05e17df3-ebc8-452a-b500-480785097f40"
      },
      "execution_count": 3,
      "outputs": [
        {
          "output_type": "stream",
          "name": "stdout",
          "text": [
            "[[2, 3, 15, 16], [6, 7, 19, 20]]\n"
          ]
        }
      ]
    },
    {
      "cell_type": "code",
      "source": [
        "def submatrix(matrix_a,matrix_b,coords):\n",
        "    # unpick the value:\n",
        "    start_row_a, end_row_a, start_col_a, end_col_a = coords[0]\n",
        "    start_row_b, end_row_b, start_col_b, end_col_b = coords[1]\n",
        "\n",
        "    submatrix_a = [row[start_col_a - 1:end_col_a] for row in matrix_a[start_row_a - 1:end_row_a]]\n",
        "    submatrix_b = [row[start_col_b - 1:end_col_b] for row in matrix_b[start_row_b - 1:end_row_b]]\n",
        "\n",
        "    if len(submatrix_a) != len(submatrix_b):\n",
        "        raise ValueError(\"Submatrices must have the same number of rows.\")\n",
        "\n",
        "    result = [row_a + row_b for row_a, row_b in zip(submatrix_a,submatrix_b)]\n",
        "\n",
        "    return result\n",
        "\n",
        "matrix_a = [\n",
        "    [1, 2, 3, 4],\n",
        "    [5, 6, 7, 8],\n",
        "    [9,10,11,12]\n",
        "]\n",
        "\n",
        "matrix_b = [\n",
        "    [13,14,15,16],\n",
        "    [17,18,19,20],\n",
        "    [21,22,23,24]\n",
        "]\n",
        "\n",
        "coords = [\n",
        "    (1, 2, 2, 3),  # From A: rows 1-2, cols 2-3 -> [[2, 3], [6, 7]]\n",
        "    (1, 2, 3, 4)   # From B: rows 1-2, cols 3-4 -> [[15, 16], [19, 20]]\n",
        "]\n",
        "\n",
        "print(submatrix(matrix_a,matrix_b,coords))"
      ],
      "metadata": {
        "colab": {
          "base_uri": "https://localhost:8080/"
        },
        "id": "SjCSAYRwmho1",
        "outputId": "ebf02bd3-2b3a-4b6e-d4b4-d4a38698ed3a"
      },
      "execution_count": 4,
      "outputs": [
        {
          "output_type": "stream",
          "name": "stdout",
          "text": [
            "[[2, 3, 15, 16], [6, 7, 19, 20]]\n"
          ]
        }
      ]
    },
    {
      "cell_type": "code",
      "source": [
        "def solution(matrix_A, matrix_B, submatrix_coords):\n",
        "    # TODO: Implement the solution here.\n",
        "    # Unpack coordinates\n",
        "    start_row_A, end_row_A, start_col_A, end_col_A = submatrix_coords[0]\n",
        "    start_row_B, end_row_B, start_col_B, end_col_B = submatrix_coords[1]\n",
        "\n",
        "    # Extract submatrices using slicing\n",
        "    submatrix = []\n",
        "\n",
        "    for row1, row2 in zip(matrix_A[start_row_A-1:end_row_A],matrix_B[start_row_B-1:end_row_B]):\n",
        "        temp = []\n",
        "        for col1, col2 in zip(row1[start_col_A-1:end_col_A],row2[start_col_B-1:end_col_B]):\n",
        "            temp.append(col1)\n",
        "            temp.append(col2)\n",
        "        submatrix.append(temp)\n",
        "    return submatrix\n",
        "\n",
        "matrix_a = [\n",
        "    [1, 2, 3, 4],\n",
        "    [5, 6, 7, 8],\n",
        "    [9,10,11,12]\n",
        "]\n",
        "\n",
        "matrix_b = [\n",
        "    [13,14,15,16],\n",
        "    [17,18,19,20],\n",
        "    [21,22,23,24]\n",
        "]\n",
        "\n",
        "coords = [\n",
        "    (1, 2, 2, 3),  # From A: rows 1-2, cols 2-3 -> [[2, 3], [6, 7]]\n",
        "    (1, 2, 3, 4)   # From B: rows 1-2, cols 3-4 -> [[15, 16], [19, 20]]\n",
        "]\n",
        "\n",
        "print(solution(matrix_a,matrix_b,coords))"
      ],
      "metadata": {
        "colab": {
          "base_uri": "https://localhost:8080/"
        },
        "id": "6gI3QYymrjfE",
        "outputId": "e8c5b31c-c770-4eca-d95c-b565b21137b9"
      },
      "execution_count": 25,
      "outputs": [
        {
          "output_type": "stream",
          "name": "stdout",
          "text": [
            "[[2, 15, 3, 16], [6, 19, 7, 20]]\n"
          ]
        }
      ]
    },
    {
      "cell_type": "code",
      "source": [
        "def extract_boundary_layers(matrix, n):\n",
        "    \"\"\"\n",
        "    Extracts the first n boundary layers of a matrix.\n",
        "    Returns a list of lists, each being the boundary in order.\n",
        "    \"\"\"\n",
        "\n",
        "    boundery = []\n",
        "\n",
        "    rows, cols = len(matrix), len(matrix[0])\n",
        "\n",
        "    for layer in range(n):\n",
        "        top , bottom = layer, rows - 1 - layer\n",
        "        left, right = layer, cols - 1 - layer\n",
        "\n",
        "        if top > bottom or left > right:\n",
        "            break\n",
        "\n",
        "\n",
        "        # top layer\n",
        "        for c in range(left, right + 1):\n",
        "            boundery.append(matrix[top][c])\n",
        "\n",
        "        # right layer\n",
        "        for r in range(top + 1, bottom + 1):\n",
        "            boundery.append(matrix[r][right])\n",
        "\n",
        "        if top < bottom:\n",
        "            # bottom layer\n",
        "            for b in range(right - 1, left - 1, -1):\n",
        "                boundery.append(matrix[bottom][b])\n",
        "        if left < right:\n",
        "            # left layer\n",
        "            for l in range(bottom - 1, top, -1):\n",
        "                boundery.append(matrix[l][left])\n",
        "\n",
        "    return boundery\n",
        "def solution(matrix_A, matrix_B, n):\n",
        "    # TODO: implement the function that extracts 'n' boundary layers from matrix_A and matrix_B,\n",
        "    matrix_A_bounderys = extract_boundary_layers(matrix_A, n)\n",
        "    matrix_B_bounderys = extract_boundary_layers(matrix_B, n)\n",
        "\n",
        "    return matrix_A_bounderys + matrix_B_bounderys\n",
        "\n",
        "\n",
        "\n",
        "    # merges them into a single array and then returns this new array.\n",
        "\n",
        "matrix_A = [[1, 2, 3, 4],\n",
        "            [5, 6, 7, 8],\n",
        "            [9, 10, 11, 12],\n",
        "            [13, 14, 15, 16]]\n",
        "\n",
        "matrix_B = [[17, 18, 19, 20],\n",
        "            [21, 22, 23, 24],\n",
        "            [25, 26, 27, 28],\n",
        "            [29, 30, 31, 32]]\n",
        "n = 2\n",
        "\n",
        "print(solution(matrix_A, matrix_B, n))"
      ],
      "metadata": {
        "colab": {
          "base_uri": "https://localhost:8080/"
        },
        "id": "jdo_cO8b9Ril",
        "outputId": "b8e497f1-b35e-4af7-b4ef-8a9637f52ef6"
      },
      "execution_count": 26,
      "outputs": [
        {
          "output_type": "stream",
          "name": "stdout",
          "text": [
            "[1, 2, 3, 4, 8, 12, 16, 15, 14, 13, 9, 5, 6, 7, 11, 10, 17, 18, 19, 20, 24, 28, 32, 31, 30, 29, 25, 21, 22, 23, 27, 26]\n"
          ]
        }
      ]
    },
    {
      "cell_type": "code",
      "source": [
        "def submatrix_swap(matrix, coord_S1, coord_S2):\n",
        "    # TODO: Implement the function that swaps coord_S1 and coord_S2 in the matrix\n",
        "    start_row_a, end_row_a , start_col_a, end_col_a = coord_S1\n",
        "    start_row_b, end_row_b , start_col_b, end_col_b = coord_S2\n",
        "\n",
        "    coordinate_a = []\n",
        "    for row in range(start_row_a,end_row_a ):\n",
        "        for col in range(start_col_a,end_col_a):\n",
        "          coordinate_a.append((row,col))\n",
        "\n",
        "    coordinate_b = []\n",
        "    for row in range(start_row_b,end_row_b):\n",
        "        for col in range(start_col_b,end_col_b):\n",
        "          coordinate_b.append((row,col))\n",
        "\n",
        "    if len(coordinate_a) != len(coordinate_b):\n",
        "        return []\n",
        "\n",
        "    for i in range(len(coordinate_a)):\n",
        "        matrix[coordinate_a[i][0]][coordinate_a[i][1]], matrix[coordinate_b[i][0]][coordinate_b[i][1]] = matrix[coordinate_b[i][0]][coordinate_b[i][1]], matrix[coordinate_a[i][0]][coordinate_a[i][1]]\n",
        "    return matrix\n",
        "\n",
        "M = [\n",
        " [1,  2,  3,  4,  5],\n",
        " [6,  7,  8,  9,  10],\n",
        " [11, 12, 13, 14, 15],\n",
        " [16, 17, 18, 19, 20],\n",
        " [21, 22, 23, 24, 25]\n",
        "]\n",
        "coord_S1=[0, 2, 2, 4]\n",
        "coord_S2=[2, 4, 0, 2]\n",
        "\n",
        "print(submatrix_swap(M, coord_S1, coord_S2))"
      ],
      "metadata": {
        "colab": {
          "base_uri": "https://localhost:8080/"
        },
        "id": "MwefX80JFMpF",
        "outputId": "90a5ec63-a3bb-4c33-e4e5-eb8288e8cf66"
      },
      "execution_count": 40,
      "outputs": [
        {
          "output_type": "stream",
          "name": "stdout",
          "text": [
            "[[1, 2, 11, 12, 5], [6, 7, 16, 17, 10], [3, 4, 13, 14, 15], [8, 9, 18, 19, 20], [21, 22, 23, 24, 25]]\n"
          ]
        }
      ]
    }
  ]
}