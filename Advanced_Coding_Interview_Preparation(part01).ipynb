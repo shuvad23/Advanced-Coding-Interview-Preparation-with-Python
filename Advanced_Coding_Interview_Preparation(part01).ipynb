{
  "nbformat": 4,
  "nbformat_minor": 0,
  "metadata": {
    "colab": {
      "provenance": [],
      "authorship_tag": "ABX9TyPI5iW8fxexA51RWZRtDiTo",
      "include_colab_link": true
    },
    "kernelspec": {
      "name": "python3",
      "display_name": "Python 3"
    },
    "language_info": {
      "name": "python"
    }
  },
  "cells": [
    {
      "cell_type": "markdown",
      "metadata": {
        "id": "view-in-github",
        "colab_type": "text"
      },
      "source": [
        "<a href=\"https://colab.research.google.com/github/shuvad23/Advanced-Coding-Interview-Preparation-with-Python/blob/main/Advanced_Coding_Interview_Preparation(part01).ipynb\" target=\"_parent\"><img src=\"https://colab.research.google.com/assets/colab-badge.svg\" alt=\"Open In Colab\"/></a>"
      ]
    },
    {
      "cell_type": "markdown",
      "source": [
        "## Multidimensional Arrays and Their Traversal in Python"
      ],
      "metadata": {
        "id": "8ECCAS09Xjbt"
      }
    },
    {
      "cell_type": "markdown",
      "source": [
        "- 1. Representing Multidimensional Arrays"
      ],
      "metadata": {
        "id": "i6m5k40FY1iQ"
      }
    },
    {
      "cell_type": "code",
      "execution_count": null,
      "metadata": {
        "colab": {
          "base_uri": "https://localhost:8080/"
        },
        "id": "vHrYmzPSXKV1",
        "outputId": "fa6fe511-5d3c-4907-b707-9db61d9110c7"
      },
      "outputs": [
        {
          "output_type": "stream",
          "name": "stdout",
          "text": [
            "[[1 2 3]\n",
            " [4 5 6]\n",
            " [7 8 9]]\n"
          ]
        }
      ],
      "source": [
        "# 1.1 Using Nested Lists\n",
        "# A 2D array (matrix) can be represented as a list of lists:\n",
        "matrix = [\n",
        "    [1, 2, 3],\n",
        "    [4, 5, 6],\n",
        "    [7, 8, 9]\n",
        "]\n",
        "\n",
        "# 1.2 Using NumPy (Efficient for Large Data)\n",
        "import numpy as np\n",
        "\n",
        "matrix_np = np.array(\n",
        "    [[1, 2, 3],\n",
        "    [4, 5, 6],\n",
        "    [7, 8, 9]]\n",
        ")\n",
        "print(matrix_np)"
      ]
    },
    {
      "cell_type": "markdown",
      "source": [
        "- 2. Traversing Multidimensional Arrays"
      ],
      "metadata": {
        "id": "Z8-3xTYfZqkl"
      }
    },
    {
      "cell_type": "code",
      "source": [
        "\n",
        "# 2.1 Basic Row-wise Traversal\n",
        "print(\"Basic Row-wise Traversal: \")\n",
        "row = 1\n",
        "for floor in matrix:\n",
        "    print(f\"row {row}: \",end =\"\")\n",
        "    for room in floor:\n",
        "        print(room,end = ',')\n",
        "    row +=1\n",
        "    print()\n",
        "\n",
        "\n",
        "# 2.2 Column-wise Traversal\n",
        "print(\"Column-wise Traversal: \")\n",
        "column = 1\n",
        "for col in range(len(matrix[0])):\n",
        "    print(f\"Column {column}: \", end= ' ')\n",
        "    for row in range(len(matrix)):\n",
        "        print(matrix[row][col],end = \",\")\n",
        "    column +=1\n",
        "    print()\n",
        "\n",
        "\n",
        "# 2.3 Diagonal Traversal (Top-Left to Bottom-Right)\n",
        "print(\"Diagonal Traversal (Top-Left to Bottom-Right): \",end = \"\")\n",
        "for row in range(len(matrix)):\n",
        "    print(matrix[row][row],end = \",\")\n",
        "print()\n",
        "\n",
        "\n",
        "\n",
        "# 2.4 Spiral Order Traversal (Advanced)\n",
        "def spiral_order_traversal(matrix):\n",
        "    if matrix is None:\n",
        "        return []\n",
        "\n",
        "    top , bottom = 0, len(matrix) -1\n",
        "    left , right = 0, len(matrix[0]) -1\n",
        "\n",
        "    while top <= bottom and left <= right:\n",
        "        # top row\n",
        "        for i in range(left,right+1):\n",
        "            yield matrix[top][i]\n",
        "        top +=1\n",
        "\n",
        "        # right column\n",
        "        for j in range(top,bottom+1):\n",
        "            yield matrix[j][bottom]\n",
        "        right -=1\n",
        "\n",
        "        # bottom row\n",
        "        for k in range(right,left-1,-1):\n",
        "            yield matrix[bottom][k]\n",
        "        bottom -=1\n",
        "\n",
        "        # left column\n",
        "        for l in range(bottom,top-1,-1):\n",
        "            yield matrix[l][left]\n",
        "        left +=1\n",
        "\n",
        "print(\"Spiral Order Traversal : \",end = \" \")\n",
        "for element in spiral_order_traversal(matrix):\n",
        "    print(element,end = \",\")\n",
        "print()"
      ],
      "metadata": {
        "colab": {
          "base_uri": "https://localhost:8080/"
        },
        "id": "p0isOQU-Zpy0",
        "outputId": "946b9ea1-9de0-49f7-fbfa-32675cce8da2"
      },
      "execution_count": null,
      "outputs": [
        {
          "output_type": "stream",
          "name": "stdout",
          "text": [
            "Basic Row-wise Traversal: \n",
            "row 1: 1,2,3,\n",
            "row 2: 4,5,6,\n",
            "row 3: 7,8,9,\n",
            "Column-wise Traversal: \n",
            "Column 1:  1,4,7,\n",
            "Column 2:  2,5,8,\n",
            "Column 3:  3,6,9,\n",
            "Diagonal Traversal (Top-Left to Bottom-Right): 1,5,9,\n",
            "Spiral Order Traversal :  1,2,3,6,9,8,7,4,5,\n"
          ]
        }
      ]
    },
    {
      "cell_type": "markdown",
      "source": [
        "- 3. Real-World Problem: Image Processing (Edge Detection)"
      ],
      "metadata": {
        "id": "vFyq5EG9grwR"
      }
    },
    {
      "cell_type": "code",
      "source": [
        "import numpy as np\n",
        "\n",
        "def sobel_edge_detection(image):\n",
        "    # Sobel kernels\n",
        "    sobel_x = np.array([[-1, 0, 1], [-2, 0, 2], [-1, 0, 1]])\n",
        "    sobel_y = np.array([[-1, -2, -1], [0, 0, 0], [1, 2, 1]])\n",
        "\n",
        "    # Pad the image to handle borders\n",
        "    padded = np.pad(image, ((1, 1), (1, 1)), mode='constant')\n",
        "    # Initialize output\n",
        "    edge_image = np.zeros_like(image, dtype=np.float32)\n",
        "    # Convolve with Sobel kernels\n",
        "    for i in range(1, padded.shape[0] - 1):\n",
        "        for j in range(1, padded.shape[1] - 1):\n",
        "            # Extract 3x3 patch\n",
        "            patch = padded[i-1:i+2, j-1:j+2]\n",
        "\n",
        "            # Apply Sobel operators\n",
        "            gx = np.sum(patch * sobel_x)\n",
        "            gy = np.sum(patch * sobel_y)\n",
        "\n",
        "            # Compute gradient magnitude\n",
        "            edge_image[i-1, j-1] = np.sqrt(gx**2 + gy**2)\n",
        "\n",
        "    return edge_image\n",
        "\n",
        "# Example usage\n",
        "image = np.array([\n",
        "    [100, 100, 100, 100],\n",
        "    [100, 50, 50, 100],\n",
        "    [100, 50, 50, 100],\n",
        "    [100, 100, 100, 100]\n",
        "])\n",
        "\n",
        "edges = sobel_edge_detection(image)\n",
        "print(\"Edge Detection Result:\")\n",
        "print(edges)"
      ],
      "metadata": {
        "colab": {
          "base_uri": "https://localhost:8080/"
        },
        "id": "mnMJJAO-grAC",
        "outputId": "2d03a368-0f32-47cd-efb8-c53bd49087f6"
      },
      "execution_count": null,
      "outputs": [
        {
          "output_type": "stream",
          "name": "stdout",
          "text": [
            "Edge Detection Result:\n",
            "[[353.5534  254.95097 254.95097 353.5534 ]\n",
            " [254.95097 212.13203 212.13203 254.95097]\n",
            " [254.95097 212.13203 212.13203 254.95097]\n",
            " [353.5534  254.95097 254.95097 353.5534 ]]\n"
          ]
        }
      ]
    },
    {
      "cell_type": "markdown",
      "source": [
        "4. Key Takeaways\n",
        "\n",
        "- Nested lists work for small matrices, but NumPy is better for large-scale computations.\n",
        "\n",
        "- Traversal techniques (row-wise, column-wise, diagonal, spiral) are useful in different scenarios.\n",
        "\n",
        "- Real-world applications include:\n",
        "\n",
        " - Image processing (edge detection, blurring)\n",
        "\n",
        " - Game development (grid-based pathfinding)\n",
        "\n",
        " - Scientific computing (matrix operations)"
      ],
      "metadata": {
        "id": "yYGz7AEAjFWR"
      }
    },
    {
      "cell_type": "markdown",
      "source": [
        "### Advanced Multidimensional Array Traversal: Deep Dive with Real-World Applications\n",
        "\n",
        "- Wave Traversal (Zig-Zag Pattern)\n",
        "\n",
        "- Rotating a Matrix In-Place\n",
        "\n",
        "- Pathfinding in Grids (Dijkstra's Algorithm)\n",
        "\n",
        "- Convolution Operations (Image Filtering)\n",
        "\n",
        "- 3D Matrix Traversal (Voxel Data Processing)"
      ],
      "metadata": {
        "id": "zeGj4XBu9rpx"
      }
    },
    {
      "cell_type": "code",
      "source": [
        "# 1. Wave Traversal (Zig-Zag Pattern)\n",
        "\n",
        "def zig_zag_pattern(matrix):\n",
        "    if matrix is None:\n",
        "        return []\n",
        "    rows = len(matrix)\n",
        "    cols = len(matrix[0])\n",
        "\n",
        "    for col in range(cols):\n",
        "        if col % 2 == 0:\n",
        "            for row in range(rows):\n",
        "                yield matrix[row][col]\n",
        "        else:\n",
        "            for row in range(rows-1,-1,-1):\n",
        "                yield matrix[row][col]\n",
        "matrix = [\n",
        "    [1, 2, 3],\n",
        "    [4, 5, 6],\n",
        "    [7, 8, 9]\n",
        "]\n",
        "print(\"Zig-Zag Traversal: \",end = \" \")\n",
        "for element in zig_zag_pattern(matrix):\n",
        "    print(element,end = \",\")\n",
        "print()"
      ],
      "metadata": {
        "colab": {
          "base_uri": "https://localhost:8080/"
        },
        "id": "jzSl-Q-R9nNv",
        "outputId": "aab98e55-3e6a-4925-c06e-695032b59311"
      },
      "execution_count": null,
      "outputs": [
        {
          "output_type": "stream",
          "name": "stdout",
          "text": [
            "Zig-Zag Traversal:  1,4,7,8,5,2,3,6,9,\n"
          ]
        }
      ]
    },
    {
      "cell_type": "code",
      "source": [
        "# 2. Rotating a Matrix In-Place\n",
        "def rotate_matrix_90_clockwise(matrix):\n",
        "    n = len(matrix)\n",
        "\n",
        "    # Transpose the matrix\n",
        "    for i in range(n):\n",
        "        for j in range(i, n):\n",
        "            matrix[i][j], matrix[j][i] = matrix[j][i], matrix[i][j]\n",
        "\n",
        "    print(matrix)\n",
        "    # Reverse each row\n",
        "    for row in matrix:\n",
        "        row.reverse()\n",
        "\n",
        "    return matrix\n",
        "\n",
        "rotated = rotate_matrix_90_clockwise([\n",
        "    [1, 2, 3],\n",
        "    [4, 5, 6],\n",
        "    [7, 8, 9]\n",
        "])\n",
        "print(rotated)"
      ],
      "metadata": {
        "colab": {
          "base_uri": "https://localhost:8080/"
        },
        "id": "0BnC4OVb_D4X",
        "outputId": "49023e54-d19d-4274-885d-68fb7e5ef4c4"
      },
      "execution_count": null,
      "outputs": [
        {
          "output_type": "stream",
          "name": "stdout",
          "text": [
            "[[1, 4, 7], [2, 5, 8], [3, 6, 9]]\n",
            "[[7, 4, 1], [8, 5, 2], [9, 6, 3]]\n"
          ]
        }
      ]
    },
    {
      "cell_type": "code",
      "source": [
        "# 1. Pathfinding in Grids (Dijkstra's Algorithm) (this code just for my practice using deepseek ) for future study **noted\n",
        "\n",
        "\n",
        "import heapq\n",
        "def dijkstra(grid, start, end):\n",
        "    rows, cols = len(grid), len(grid[0])\n",
        "    directions = [(0,1), (1,0), (0,-1), (-1,0)]\n",
        "    heap = [(0, start)]\n",
        "    visited = set()\n",
        "    distances = [[float('inf')] * cols for _ in range(rows)]\n",
        "    distances[start[0]][start[1]] = 0\n",
        "    predecessors = [[None] * cols for _ in range(rows)]\n",
        "\n",
        "    while heap:\n",
        "        dist, (r, c) = heapq.heappop(heap)\n",
        "        if (r, c) == end:\n",
        "            break\n",
        "        if (r, c) in visited:\n",
        "            continue\n",
        "        visited.add((r, c))\n",
        "\n",
        "        for dr, dc in directions:\n",
        "            nr, nc = r + dr, c + dc\n",
        "            if 0 <= nr < rows and 0 <= nc < cols:\n",
        "                new_dist = dist + grid[nr][nc]\n",
        "                if new_dist < distances[nr][nc]:\n",
        "                    distances[nr][nc] = new_dist\n",
        "                    predecessors[nr][nc] = (r, c)\n",
        "                    heapq.heappush(heap, (new_dist, (nr, nc)))\n",
        "\n",
        "    # Reconstruct path\n",
        "    path = []\n",
        "    if distances[end[0]][end[1]] != float('inf'):\n",
        "        current = end\n",
        "        while current != start:\n",
        "            path.append(current)\n",
        "            current = predecessors[current[0]][current[1]]\n",
        "        path.append(start)\n",
        "        path.reverse()\n",
        "\n",
        "    return distances[end[0]][end[1]], path\n",
        "\n",
        "# Weighted grid (higher values = harder to traverse)\n",
        "grid = [\n",
        "    [1, 2, 3],\n",
        "    [4, 8, 2],\n",
        "    [1, 5, 1]\n",
        "]\n",
        "\n",
        "start = (0, 0)\n",
        "end = (2, 2)\n",
        "distance, path = dijkstra(grid, start, end)\n",
        "\n",
        "print(f\"Shortest distance: {distance}\")\n",
        "print(\"Path taken:\", path)\n",
        "\n",
        "\n",
        "# Real-World Applications\n",
        "#1.  Robotic Navigation: Autonomous robots finding optimal paths in warehouses\n",
        "\n",
        "#2.  Game AI: NPC movement in strategy games\n",
        "\n",
        "#3.  Traffic Routing: GPS systems finding least-congested routes"
      ],
      "metadata": {
        "colab": {
          "base_uri": "https://localhost:8080/"
        },
        "id": "gT7e4W14A-xa",
        "outputId": "b91ec56d-0742-488b-f526-afa3e33af4db"
      },
      "execution_count": null,
      "outputs": [
        {
          "output_type": "stream",
          "name": "stdout",
          "text": [
            "Shortest distance: 8\n",
            "Path taken: [(0, 0), (0, 1), (0, 2), (1, 2), (2, 2)]\n"
          ]
        }
      ]
    },
    {
      "cell_type": "code",
      "source": [
        "# 2. Convolution Operations (Image Filtering)\n",
        "# Advanced Implementation with Multiple Kernels\n",
        "\n",
        "\n",
        "import numpy as np\n",
        "from scipy.signal import convolve2d\n",
        "\n",
        "def apply_filters(image, kernels):\n",
        "    results = []\n",
        "    for name, kernel in kernels.items():\n",
        "        # Add padding to maintain original size\n",
        "        padded = np.pad(image, ((1,1), (1,1)), mode='constant')\n",
        "        # Perform convolution\n",
        "        filtered = convolve2d(padded, kernel, mode='valid')\n",
        "        results.append((name, filtered))\n",
        "    return results\n",
        "\n",
        "# Sample grayscale image (5x5)\n",
        "image = np.array([\n",
        "    [50, 60, 70, 80, 90],\n",
        "    [40, 50, 60, 70, 80],\n",
        "    [30, 40, 50, 60, 70],\n",
        "    [20, 30, 40, 50, 60],\n",
        "    [10, 20, 30, 40, 50]\n",
        "])\n",
        "\n",
        "# Collection of common filters\n",
        "kernels = {\n",
        "    'blur': np.ones((3,3))/9,\n",
        "    'sharpen': np.array([[0,-1,0], [-1,5,-1], [0,-1,0]]),\n",
        "    'edge_detect': np.array([[-1,-1,-1], [-1,8,-1], [-1,-1,-1]]),\n",
        "    'gaussian': np.array([[1,2,1], [2,4,2], [1,2,1]])/16\n",
        "}\n",
        "\n",
        "filtered_images = apply_filters(image, kernels)\n",
        "\n",
        "for name, result in filtered_images:\n",
        "    print(f\"\\n{name} filter:\")\n",
        "    print(np.round(result).astype(int))\n",
        "\n",
        "\n",
        "# Real-World Applications\n",
        "#1.  Medical Imaging: Tumor detection in MRI scans\n",
        "\n",
        "#2.  Autonomous Vehicles: Lane detection in self-driving cars\n",
        "\n",
        "#3.  Social Media: Instagram/Snapchat filters"
      ],
      "metadata": {
        "colab": {
          "base_uri": "https://localhost:8080/"
        },
        "id": "2Rlvsz_8BgzK",
        "outputId": "e5c92d5d-8317-4e5b-c2f3-fd49fc212659"
      },
      "execution_count": null,
      "outputs": [
        {
          "output_type": "stream",
          "name": "stdout",
          "text": [
            "\n",
            "blur filter:\n",
            "[[22 37 43 50 36]\n",
            " [30 50 60 70 50]\n",
            " [23 40 50 60 43]\n",
            " [17 30 40 50 37]\n",
            " [ 9 17 23 30 22]]\n",
            "\n",
            "sharpen filter:\n",
            "[[150 130 150 170 290]\n",
            " [ 70  50  60  70 170]\n",
            " [ 50  40  50  60 150]\n",
            " [ 30  30  40  50 130]\n",
            " [ 10  30  50  70 150]]\n",
            "\n",
            "edge_detect filter:\n",
            "[[250 210 240 270 490]\n",
            " [ 90   0   0   0 270]\n",
            " [ 60   0   0   0 240]\n",
            " [ 30   0   0   0 210]\n",
            " [ 10  30  60  90 250]]\n",
            "\n",
            "gaussian filter:\n",
            "[[28 42 50 58 47]\n",
            " [32 50 60 70 58]\n",
            " [25 40 50 60 50]\n",
            " [18 30 40 50 42]\n",
            " [ 9 18 25 32 28]]\n"
          ]
        }
      ]
    },
    {
      "cell_type": "code",
      "source": [
        "# 3. 3D Matrix Traversal (Voxel Data Processing)\n",
        "# Volume Rendering with Thresholding\n",
        "\n",
        "import numpy as np\n",
        "\n",
        "def process_voxel_data(volume, threshold):\n",
        "    # Initialize output volume\n",
        "    segmented = np.zeros_like(volume)\n",
        "\n",
        "    # Process each voxel\n",
        "    for z in range(volume.shape[0]):\n",
        "        for y in range(volume.shape[1]):\n",
        "            for x in range(volume.shape[2]):\n",
        "                if volume[z,y,x] > threshold:\n",
        "                    segmented[z,y,x] = 1  # Mark as tissue\n",
        "                else:\n",
        "                    segmented[z,y,x] = 0  # Mark as air\n",
        "\n",
        "    # Calculate tissue volume\n",
        "    tissue_voxels = np.sum(segmented)\n",
        "    total_voxels = volume.size\n",
        "    percentage = (tissue_voxels / total_voxels) * 100\n",
        "\n",
        "    return segmented, percentage\n",
        "\n",
        "# Simulated CT scan data (4 slices of 5x5)\n",
        "# Values represent density (0-1000 Hounsfield units)\n",
        "voxel_data = np.random.randint(0, 1000, size=(4,5,5))\n",
        "\n",
        "# Set bone threshold (typically >400 HU)\n",
        "threshold = 400\n",
        "segmented, percentage = process_voxel_data(voxel_data, threshold)\n",
        "\n",
        "print(f\"Original volume:\\n{voxel_data}\")\n",
        "print(f\"\\nSegmented volume (1=tissue, 0=air):\\n{segmented}\")\n",
        "print(f\"\\nTissue occupies {percentage:.2f}% of the volume\")"
      ],
      "metadata": {
        "colab": {
          "base_uri": "https://localhost:8080/"
        },
        "id": "dh3oJMGSB410",
        "outputId": "97e68ce9-4693-4436-81fe-54c05c57dc73"
      },
      "execution_count": null,
      "outputs": [
        {
          "output_type": "stream",
          "name": "stdout",
          "text": [
            "Original volume:\n",
            "[[[ 43  32 182 995  60]\n",
            "  [525 724 213 560 571]\n",
            "  [846 478 262 185 804]\n",
            "  [ 77 266 214 862  84]\n",
            "  [464 701 242  97  44]]\n",
            "\n",
            " [[994 192  21 412 872]\n",
            "  [191 129 358 519 921]\n",
            "  [  4 631 926 785 581]\n",
            "  [784 628 996 963 286]\n",
            "  [579 696 395 802 901]]\n",
            "\n",
            " [[156 888 799  12 137]\n",
            "  [525 201 598 410 648]\n",
            "  [359 420 765 915 553]\n",
            "  [925 538 925 969 981]\n",
            "  [947 558 913 451  57]]\n",
            "\n",
            " [[622 950 285 412 632]\n",
            "  [847 651 461 715 542]\n",
            "  [116 182 341 401 558]\n",
            "  [753 710 806 138 555]\n",
            "  [727 220   5 710  54]]]\n",
            "\n",
            "Segmented volume (1=tissue, 0=air):\n",
            "[[[0 0 0 1 0]\n",
            "  [1 1 0 1 1]\n",
            "  [1 1 0 0 1]\n",
            "  [0 0 0 1 0]\n",
            "  [1 1 0 0 0]]\n",
            "\n",
            " [[1 0 0 1 1]\n",
            "  [0 0 0 1 1]\n",
            "  [0 1 1 1 1]\n",
            "  [1 1 1 1 0]\n",
            "  [1 1 0 1 1]]\n",
            "\n",
            " [[0 1 1 0 0]\n",
            "  [1 0 1 1 1]\n",
            "  [0 1 1 1 1]\n",
            "  [1 1 1 1 1]\n",
            "  [1 1 1 1 0]]\n",
            "\n",
            " [[1 1 0 1 1]\n",
            "  [1 1 1 1 1]\n",
            "  [0 0 0 1 1]\n",
            "  [1 1 1 0 1]\n",
            "  [1 0 0 1 0]]]\n",
            "\n",
            "Tissue occupies 64.00% of the volume\n"
          ]
        }
      ]
    },
    {
      "cell_type": "code",
      "source": [
        "# Advanced Application: Marching Cubes Algorithm\n",
        "\n",
        "\n",
        "from skimage.measure import marching_cubes\n",
        "\n",
        "def generate_3d_surface(volume, threshold):\n",
        "    # Run marching cubes\n",
        "    verts, faces, normals, values = marching_cubes(volume, threshold)\n",
        "\n",
        "    # Calculate surface area and volume\n",
        "    surface_area = marching_cubes(volume, threshold)[2]\n",
        "    volume = np.sum(volume > threshold)\n",
        "\n",
        "    return verts, faces, surface_area, volume\n",
        "\n",
        "# Example usage with medical data\n",
        "# (In practice, you'd load real DICOM data)\n",
        "verts, faces, area, vol = generate_3d_surface(voxel_data, threshold)\n",
        "print(f\"\\nGenerated {len(faces)} triangles\")\n",
        "print(f\"Surface area: {area} voxel units\")\n",
        "print(f\"Tissue volume: {vol} voxels\")\n",
        "\n",
        "# Real-World Applications\n",
        "#1.  Medical Diagnostics: Tumor volume measurement\n",
        "\n",
        "#2.  Geological Surveying: Oil reservoir modeling\n",
        "\n",
        "#3.  3D Printing: STL file generation from scans"
      ],
      "metadata": {
        "colab": {
          "base_uri": "https://localhost:8080/"
        },
        "id": "aDaJMJuiCHna",
        "outputId": "3722f617-1bff-4e1f-dea1-9e29995ba46e"
      },
      "execution_count": null,
      "outputs": [
        {
          "output_type": "stream",
          "name": "stdout",
          "text": [
            "\n",
            "Generated 114 triangles\n",
            "Surface area: [[-3.66654128e-01  2.81825095e-01  8.86645019e-01]\n",
            " [ 4.29924637e-01  6.39671862e-01  6.37169302e-01]\n",
            " [-9.51368093e-01  3.81835707e-04  3.08056146e-01]\n",
            " [-5.31657264e-02 -9.92651224e-01  1.08705573e-01]\n",
            " [ 2.84589767e-01 -9.34923172e-01 -2.11960644e-01]\n",
            " [ 9.83841181e-01 -1.75483808e-01  3.55244987e-02]\n",
            " [ 8.49456191e-01 -4.94056493e-01 -1.85290024e-01]\n",
            " [ 3.80321532e-01 -3.30586165e-01  8.63752484e-01]\n",
            " [ 3.17637801e-01  1.08855821e-01 -9.41942990e-01]\n",
            " [-1.37479782e-01  4.60889727e-01 -8.76743972e-01]\n",
            " [ 7.76130378e-01 -1.76584765e-01 -6.05342388e-01]\n",
            " [-1.32895470e-01 -8.89782071e-01 -4.36608076e-01]\n",
            " [-3.05496186e-01 -1.67421386e-01  9.37359154e-01]\n",
            " [-8.63974214e-01 -3.37877482e-01  3.73346150e-01]\n",
            " [-5.97899079e-01  2.89677948e-01  7.47397780e-01]\n",
            " [ 3.01369250e-01 -2.27845579e-01 -9.25884962e-01]\n",
            " [ 1.19031690e-01 -7.03590155e-01 -7.00565755e-01]\n",
            " [ 6.70635462e-01 -4.40304250e-01 -5.96975923e-01]\n",
            " [-8.87269914e-01  1.62551910e-01  4.31658357e-01]\n",
            " [-2.93690681e-01 -8.94751072e-01 -3.36402029e-01]\n",
            " [-9.67133403e-01  1.90905750e-01  1.67952135e-01]\n",
            " [-5.36909759e-01  5.67072630e-01 -6.24625146e-01]\n",
            " [-7.81102180e-01 -6.12482071e-01 -1.21429287e-01]\n",
            " [-2.87426740e-01 -1.62845537e-01 -9.43857610e-01]\n",
            " [-2.04838645e-02 -8.57322156e-01 -5.14372587e-01]\n",
            " [-9.72430885e-01 -1.75048366e-01 -1.54065594e-01]\n",
            " [ 3.05320412e-01  9.47448015e-01  9.55076292e-02]\n",
            " [-7.93802679e-01  5.07906795e-01  3.34526479e-01]\n",
            " [-9.96459961e-01 -6.53991476e-02 -5.28246686e-02]\n",
            " [-7.35400677e-01 -2.80341476e-01 -6.16923451e-01]\n",
            " [-8.25015545e-01 -5.19602656e-01 -2.22176433e-01]\n",
            " [-5.54938257e-01 -1.69232786e-01 -8.14496040e-01]\n",
            " [-3.22375804e-01 -3.74187708e-01  8.69515598e-01]\n",
            " [-1.89765483e-01  1.94040969e-01  9.62464094e-01]\n",
            " [ 3.74406241e-02  9.67772398e-03  9.99251962e-01]\n",
            " [ 2.26936251e-01 -3.51818532e-01  9.08142984e-01]\n",
            " [-5.95517039e-01 -7.87717640e-01 -1.57671690e-01]\n",
            " [-2.26600602e-01 -8.58317375e-01 -4.60373193e-01]\n",
            " [-9.39821243e-01  2.34979734e-01 -2.48033330e-01]\n",
            " [-9.01564360e-02 -5.38333714e-01  8.37895393e-01]\n",
            " [ 2.06771955e-01 -1.81692764e-01  9.61370409e-01]\n",
            " [-9.93623257e-01 -8.28397721e-02 -7.64879435e-02]\n",
            " [-3.76950771e-01  3.50531667e-01 -8.57342184e-01]\n",
            " [-6.23522580e-01  7.74150670e-01 -1.09134652e-01]\n",
            " [-4.38045055e-01 -5.95281065e-01  6.73614860e-01]\n",
            " [-8.07934225e-01  5.89158058e-01 -1.16218664e-02]\n",
            " [-4.64925230e-01  7.18373895e-01  5.17477989e-01]\n",
            " [-5.59073448e-01  4.23039973e-01  7.13073671e-01]\n",
            " [-8.86252046e-01  3.17679018e-01  3.37101340e-01]\n",
            " [-7.58638382e-01  5.05119681e-01 -4.11487490e-01]\n",
            " [-3.14276367e-01  9.44391489e-01 -9.67218801e-02]\n",
            " [-3.18673812e-03 -2.32176594e-02 -9.99725342e-01]\n",
            " [ 9.46161270e-01 -3.13310288e-02 -3.22175831e-01]\n",
            " [-2.09632501e-01 -5.41309237e-01 -8.14271808e-01]\n",
            " [-3.65820825e-01 -2.52582934e-02 -9.30342495e-01]\n",
            " [-9.75912869e-01 -9.39725935e-02  1.96883872e-01]\n",
            " [ 7.03562617e-01 -2.03558251e-01 -6.80855095e-01]\n",
            " [ 3.12913060e-01 -8.42368066e-01  4.38749909e-01]\n",
            " [-8.17213356e-02 -1.28948525e-01  9.88278270e-01]\n",
            " [ 8.66395175e-01 -4.07483608e-01 -2.88646042e-01]\n",
            " [-2.52002746e-01 -8.97123635e-01 -3.62855047e-01]\n",
            " [ 5.89808285e-01 -7.78613150e-01  2.14214250e-01]\n",
            " [ 2.43680909e-01 -8.52686465e-01 -4.62109774e-01]\n",
            " [ 4.76061404e-01 -2.47415289e-01 -8.43890548e-01]\n",
            " [ 1.46286324e-01 -9.87829328e-01 -5.28542399e-02]\n",
            " [-4.91480142e-01 -3.64733040e-01  7.90833175e-01]\n",
            " [ 9.60270464e-01  1.90304905e-01 -2.04119354e-01]\n",
            " [ 1.76867217e-01  8.96831334e-01  4.05476928e-01]\n",
            " [ 6.41085565e-01  6.81113899e-01  3.53685141e-01]\n",
            " [-1.80716198e-02  9.39585865e-01  3.41835976e-01]\n",
            " [-6.14949286e-01 -3.87445599e-01 -6.86821163e-01]\n",
            " [-9.80659842e-01  3.45616266e-02  1.92644060e-01]\n",
            " [ 5.25112092e-01 -1.18934825e-01  8.42681289e-01]\n",
            " [-1.92131594e-01 -8.64129484e-01 -4.65151310e-01]\n",
            " [ 8.48770678e-01 -1.51344985e-01  5.06639004e-01]\n",
            " [-7.02759922e-01 -6.52035952e-01 -2.84565538e-01]\n",
            " [-7.57793725e-01 -5.79427898e-01 -3.00019979e-01]\n",
            " [-8.85400891e-01 -3.42857271e-01 -3.13869715e-01]\n",
            " [ 8.30152631e-01 -2.32493654e-01 -5.06747782e-01]\n",
            " [-9.29425806e-02  9.92771387e-01  7.59381205e-02]\n",
            " [ 3.57083641e-02  9.97403562e-01  6.25386685e-02]\n",
            " [ 6.24706388e-01  7.76519775e-01 -8.22126269e-02]\n",
            " [ 9.05258656e-01 -2.91719377e-01 -3.08879524e-01]\n",
            " [ 9.22362566e-01  3.67863357e-01 -1.17999472e-01]\n",
            " [ 3.45343947e-01 -9.28993821e-01 -1.33071601e-01]\n",
            " [ 9.80145112e-02 -9.94749963e-01 -2.94221360e-02]\n",
            " [ 6.94402277e-01 -7.12608218e-01 -9.99752060e-02]\n",
            " [ 5.50983846e-01 -1.60368666e-01  8.18961978e-01]\n",
            " [ 9.12115633e-01 -4.08012003e-01  3.96395437e-02]\n",
            " [ 8.80461156e-01  4.47752208e-01 -1.55904204e-01]\n",
            " [ 8.14763665e-01  1.64719328e-01 -5.55902600e-01]\n",
            " [ 9.29555655e-01  3.47936332e-01  1.21928468e-01]\n",
            " [ 5.11892676e-01  7.69849122e-01  3.81180048e-01]\n",
            " [ 4.35271740e-01  3.17002952e-01  8.42643261e-01]\n",
            " [ 2.65883595e-01  5.73207200e-01 -7.75073767e-01]\n",
            " [ 2.67576158e-01  9.61283803e-01  6.58513159e-02]\n",
            " [ 9.92702663e-01 -5.84208146e-02  1.05491638e-01]\n",
            " [ 4.74709690e-01  2.37167224e-01 -8.47586215e-01]\n",
            " [-1.81109831e-01 -9.08153597e-03  9.83420968e-01]\n",
            " [ 7.49266744e-01  5.91625273e-01 -2.97622085e-01]] voxel units\n",
            "Tissue volume: 64 voxels\n"
          ]
        }
      ]
    }
  ]
}