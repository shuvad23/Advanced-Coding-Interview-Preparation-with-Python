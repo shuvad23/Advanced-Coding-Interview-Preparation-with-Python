{
  "nbformat": 4,
  "nbformat_minor": 0,
  "metadata": {
    "colab": {
      "provenance": [],
      "authorship_tag": "ABX9TyOJfh10PqGGnKtJSy5LzLFH",
      "include_colab_link": true
    },
    "kernelspec": {
      "name": "python3",
      "display_name": "Python 3"
    },
    "language_info": {
      "name": "python"
    }
  },
  "cells": [
    {
      "cell_type": "markdown",
      "metadata": {
        "id": "view-in-github",
        "colab_type": "text"
      },
      "source": [
        "<a href=\"https://colab.research.google.com/github/shuvad23/Advanced-Coding-Interview-Preparation-with-Python/blob/main/Advanced_Coding_Interview_Preparation(part01).ipynb\" target=\"_parent\"><img src=\"https://colab.research.google.com/assets/colab-badge.svg\" alt=\"Open In Colab\"/></a>"
      ]
    },
    {
      "cell_type": "markdown",
      "source": [
        "## Multidimensional Arrays and Their Traversal in Python"
      ],
      "metadata": {
        "id": "8ECCAS09Xjbt"
      }
    },
    {
      "cell_type": "markdown",
      "source": [
        "## Unit 1:\n",
        "- 1. Representing Multidimensional Arrays"
      ],
      "metadata": {
        "id": "i6m5k40FY1iQ"
      }
    },
    {
      "cell_type": "code",
      "execution_count": null,
      "metadata": {
        "colab": {
          "base_uri": "https://localhost:8080/"
        },
        "id": "vHrYmzPSXKV1",
        "outputId": "fa6fe511-5d3c-4907-b707-9db61d9110c7"
      },
      "outputs": [
        {
          "output_type": "stream",
          "name": "stdout",
          "text": [
            "[[1 2 3]\n",
            " [4 5 6]\n",
            " [7 8 9]]\n"
          ]
        }
      ],
      "source": [
        "# 1.1 Using Nested Lists\n",
        "# A 2D array (matrix) can be represented as a list of lists:\n",
        "matrix = [\n",
        "    [1, 2, 3],\n",
        "    [4, 5, 6],\n",
        "    [7, 8, 9]\n",
        "]\n",
        "\n",
        "# 1.2 Using NumPy (Efficient for Large Data)\n",
        "import numpy as np\n",
        "\n",
        "matrix_np = np.array(\n",
        "    [[1, 2, 3],\n",
        "    [4, 5, 6],\n",
        "    [7, 8, 9]]\n",
        ")\n",
        "print(matrix_np)"
      ]
    },
    {
      "cell_type": "markdown",
      "source": [
        "- 2. Traversing Multidimensional Arrays"
      ],
      "metadata": {
        "id": "Z8-3xTYfZqkl"
      }
    },
    {
      "cell_type": "code",
      "source": [
        "\n",
        "# 2.1 Basic Row-wise Traversal\n",
        "print(\"Basic Row-wise Traversal: \")\n",
        "row = 1\n",
        "for floor in matrix:\n",
        "    print(f\"row {row}: \",end =\"\")\n",
        "    for room in floor:\n",
        "        print(room,end = ',')\n",
        "    row +=1\n",
        "    print()\n",
        "\n",
        "\n",
        "# 2.2 Column-wise Traversal\n",
        "print(\"Column-wise Traversal: \")\n",
        "column = 1\n",
        "for col in range(len(matrix[0])):\n",
        "    print(f\"Column {column}: \", end= ' ')\n",
        "    for row in range(len(matrix)):\n",
        "        print(matrix[row][col],end = \",\")\n",
        "    column +=1\n",
        "    print()\n",
        "\n",
        "\n",
        "# 2.3 Diagonal Traversal (Top-Left to Bottom-Right)\n",
        "print(\"Diagonal Traversal (Top-Left to Bottom-Right): \",end = \"\")\n",
        "for row in range(len(matrix)):\n",
        "    print(matrix[row][row],end = \",\")\n",
        "print()\n",
        "\n",
        "\n",
        "\n",
        "# 2.4 Spiral Order Traversal (Advanced)\n",
        "def spiral_order_traversal(matrix):\n",
        "    if matrix is None:\n",
        "        return []\n",
        "\n",
        "    top , bottom = 0, len(matrix) -1\n",
        "    left , right = 0, len(matrix[0]) -1\n",
        "\n",
        "    while top <= bottom and left <= right:\n",
        "        # top row\n",
        "        for i in range(left,right+1):\n",
        "            yield matrix[top][i]\n",
        "        top +=1\n",
        "\n",
        "        # right column\n",
        "        for j in range(top,bottom+1):\n",
        "            yield matrix[j][bottom]\n",
        "        right -=1\n",
        "\n",
        "        # bottom row\n",
        "        for k in range(right,left-1,-1):\n",
        "            yield matrix[bottom][k]\n",
        "        bottom -=1\n",
        "\n",
        "        # left column\n",
        "        for l in range(bottom,top-1,-1):\n",
        "            yield matrix[l][left]\n",
        "        left +=1\n",
        "\n",
        "print(\"Spiral Order Traversal : \",end = \" \")\n",
        "for element in spiral_order_traversal(matrix):\n",
        "    print(element,end = \",\")\n",
        "print()"
      ],
      "metadata": {
        "colab": {
          "base_uri": "https://localhost:8080/"
        },
        "id": "p0isOQU-Zpy0",
        "outputId": "946b9ea1-9de0-49f7-fbfa-32675cce8da2"
      },
      "execution_count": null,
      "outputs": [
        {
          "output_type": "stream",
          "name": "stdout",
          "text": [
            "Basic Row-wise Traversal: \n",
            "row 1: 1,2,3,\n",
            "row 2: 4,5,6,\n",
            "row 3: 7,8,9,\n",
            "Column-wise Traversal: \n",
            "Column 1:  1,4,7,\n",
            "Column 2:  2,5,8,\n",
            "Column 3:  3,6,9,\n",
            "Diagonal Traversal (Top-Left to Bottom-Right): 1,5,9,\n",
            "Spiral Order Traversal :  1,2,3,6,9,8,7,4,5,\n"
          ]
        }
      ]
    },
    {
      "cell_type": "markdown",
      "source": [
        "- 3. Real-World Problem: Image Processing (Edge Detection)"
      ],
      "metadata": {
        "id": "vFyq5EG9grwR"
      }
    },
    {
      "cell_type": "code",
      "source": [
        "import numpy as np\n",
        "\n",
        "def sobel_edge_detection(image):\n",
        "    # Sobel kernels\n",
        "    sobel_x = np.array([[-1, 0, 1], [-2, 0, 2], [-1, 0, 1]])\n",
        "    sobel_y = np.array([[-1, -2, -1], [0, 0, 0], [1, 2, 1]])\n",
        "\n",
        "    # Pad the image to handle borders\n",
        "    padded = np.pad(image, ((1, 1), (1, 1)), mode='constant')\n",
        "    # Initialize output\n",
        "    edge_image = np.zeros_like(image, dtype=np.float32)\n",
        "    # Convolve with Sobel kernels\n",
        "    for i in range(1, padded.shape[0] - 1):\n",
        "        for j in range(1, padded.shape[1] - 1):\n",
        "            # Extract 3x3 patch\n",
        "            patch = padded[i-1:i+2, j-1:j+2]\n",
        "\n",
        "            # Apply Sobel operators\n",
        "            gx = np.sum(patch * sobel_x)\n",
        "            gy = np.sum(patch * sobel_y)\n",
        "\n",
        "            # Compute gradient magnitude\n",
        "            edge_image[i-1, j-1] = np.sqrt(gx**2 + gy**2)\n",
        "\n",
        "    return edge_image\n",
        "\n",
        "# Example usage\n",
        "image = np.array([\n",
        "    [100, 100, 100, 100],\n",
        "    [100, 50, 50, 100],\n",
        "    [100, 50, 50, 100],\n",
        "    [100, 100, 100, 100]\n",
        "])\n",
        "\n",
        "edges = sobel_edge_detection(image)\n",
        "print(\"Edge Detection Result:\")\n",
        "print(edges)"
      ],
      "metadata": {
        "colab": {
          "base_uri": "https://localhost:8080/"
        },
        "id": "mnMJJAO-grAC",
        "outputId": "2d03a368-0f32-47cd-efb8-c53bd49087f6"
      },
      "execution_count": null,
      "outputs": [
        {
          "output_type": "stream",
          "name": "stdout",
          "text": [
            "Edge Detection Result:\n",
            "[[353.5534  254.95097 254.95097 353.5534 ]\n",
            " [254.95097 212.13203 212.13203 254.95097]\n",
            " [254.95097 212.13203 212.13203 254.95097]\n",
            " [353.5534  254.95097 254.95097 353.5534 ]]\n"
          ]
        }
      ]
    },
    {
      "cell_type": "markdown",
      "source": [
        "4. Key Takeaways\n",
        "\n",
        "- Nested lists work for small matrices, but NumPy is better for large-scale computations.\n",
        "\n",
        "- Traversal techniques (row-wise, column-wise, diagonal, spiral) are useful in different scenarios.\n",
        "\n",
        "- Real-world applications include:\n",
        "\n",
        " - Image processing (edge detection, blurring)\n",
        "\n",
        " - Game development (grid-based pathfinding)\n",
        "\n",
        " - Scientific computing (matrix operations)"
      ],
      "metadata": {
        "id": "yYGz7AEAjFWR"
      }
    },
    {
      "cell_type": "markdown",
      "source": [
        "### Advanced Multidimensional Array Traversal: Deep Dive with Real-World Applications\n",
        "\n",
        "- Wave Traversal (Zig-Zag Pattern)\n",
        "\n",
        "- Rotating a Matrix In-Place\n",
        "\n",
        "- Pathfinding in Grids (Dijkstra's Algorithm)\n",
        "\n",
        "- Convolution Operations (Image Filtering)\n",
        "\n",
        "- 3D Matrix Traversal (Voxel Data Processing)"
      ],
      "metadata": {
        "id": "zeGj4XBu9rpx"
      }
    },
    {
      "cell_type": "code",
      "source": [
        "# 1. Wave Traversal (Zig-Zag Pattern)\n",
        "\n",
        "def zig_zag_pattern(matrix):\n",
        "    if matrix is None:\n",
        "        return []\n",
        "    rows = len(matrix)\n",
        "    cols = len(matrix[0])\n",
        "\n",
        "    for col in range(cols):\n",
        "        if col % 2 == 0:\n",
        "            for row in range(rows):\n",
        "                yield matrix[row][col]\n",
        "        else:\n",
        "            for row in range(rows-1,-1,-1):\n",
        "                yield matrix[row][col]\n",
        "matrix = [\n",
        "    [1, 2, 3],\n",
        "    [4, 5, 6],\n",
        "    [7, 8, 9]\n",
        "]\n",
        "print(\"Zig-Zag Traversal: \",end = \" \")\n",
        "for element in zig_zag_pattern(matrix):\n",
        "    print(element,end = \",\")\n",
        "print()"
      ],
      "metadata": {
        "colab": {
          "base_uri": "https://localhost:8080/"
        },
        "id": "jzSl-Q-R9nNv",
        "outputId": "aab98e55-3e6a-4925-c06e-695032b59311"
      },
      "execution_count": null,
      "outputs": [
        {
          "output_type": "stream",
          "name": "stdout",
          "text": [
            "Zig-Zag Traversal:  1,4,7,8,5,2,3,6,9,\n"
          ]
        }
      ]
    },
    {
      "cell_type": "code",
      "source": [
        "# 2. Rotating a Matrix In-Place\n",
        "def rotate_matrix_90_clockwise(matrix):\n",
        "    n = len(matrix)\n",
        "\n",
        "    # Transpose the matrix\n",
        "    for i in range(n):\n",
        "        for j in range(i, n):\n",
        "            matrix[i][j], matrix[j][i] = matrix[j][i], matrix[i][j]\n",
        "\n",
        "    print(matrix)\n",
        "    # Reverse each row\n",
        "    for row in matrix:\n",
        "        row.reverse()\n",
        "\n",
        "    return matrix\n",
        "\n",
        "rotated = rotate_matrix_90_clockwise([\n",
        "    [1, 2, 3],\n",
        "    [4, 5, 6],\n",
        "    [7, 8, 9]\n",
        "])\n",
        "print(rotated)"
      ],
      "metadata": {
        "colab": {
          "base_uri": "https://localhost:8080/"
        },
        "id": "0BnC4OVb_D4X",
        "outputId": "49023e54-d19d-4274-885d-68fb7e5ef4c4"
      },
      "execution_count": null,
      "outputs": [
        {
          "output_type": "stream",
          "name": "stdout",
          "text": [
            "[[1, 4, 7], [2, 5, 8], [3, 6, 9]]\n",
            "[[7, 4, 1], [8, 5, 2], [9, 6, 3]]\n"
          ]
        }
      ]
    },
    {
      "cell_type": "code",
      "source": [
        "# 1. Pathfinding in Grids (Dijkstra's Algorithm) (this code just for my practice using deepseek ) for future study **noted\n",
        "\n",
        "\n",
        "import heapq\n",
        "def dijkstra(grid, start, end):\n",
        "    rows, cols = len(grid), len(grid[0])\n",
        "    directions = [(0,1), (1,0), (0,-1), (-1,0)]\n",
        "    heap = [(0, start)]\n",
        "    visited = set()\n",
        "    distances = [[float('inf')] * cols for _ in range(rows)]\n",
        "    distances[start[0]][start[1]] = 0\n",
        "    predecessors = [[None] * cols for _ in range(rows)]\n",
        "\n",
        "    while heap:\n",
        "        dist, (r, c) = heapq.heappop(heap)\n",
        "        if (r, c) == end:\n",
        "            break\n",
        "        if (r, c) in visited:\n",
        "            continue\n",
        "        visited.add((r, c))\n",
        "\n",
        "        for dr, dc in directions:\n",
        "            nr, nc = r + dr, c + dc\n",
        "            if 0 <= nr < rows and 0 <= nc < cols:\n",
        "                new_dist = dist + grid[nr][nc]\n",
        "                if new_dist < distances[nr][nc]:\n",
        "                    distances[nr][nc] = new_dist\n",
        "                    predecessors[nr][nc] = (r, c)\n",
        "                    heapq.heappush(heap, (new_dist, (nr, nc)))\n",
        "\n",
        "    # Reconstruct path\n",
        "    path = []\n",
        "    if distances[end[0]][end[1]] != float('inf'):\n",
        "        current = end\n",
        "        while current != start:\n",
        "            path.append(current)\n",
        "            current = predecessors[current[0]][current[1]]\n",
        "        path.append(start)\n",
        "        path.reverse()\n",
        "\n",
        "    return distances[end[0]][end[1]], path\n",
        "\n",
        "# Weighted grid (higher values = harder to traverse)\n",
        "grid = [\n",
        "    [1, 2, 3],\n",
        "    [4, 8, 2],\n",
        "    [1, 5, 1]\n",
        "]\n",
        "\n",
        "start = (0, 0)\n",
        "end = (2, 2)\n",
        "distance, path = dijkstra(grid, start, end)\n",
        "\n",
        "print(f\"Shortest distance: {distance}\")\n",
        "print(\"Path taken:\", path)\n",
        "\n",
        "\n",
        "# Real-World Applications\n",
        "#1.  Robotic Navigation: Autonomous robots finding optimal paths in warehouses\n",
        "\n",
        "#2.  Game AI: NPC movement in strategy games\n",
        "\n",
        "#3.  Traffic Routing: GPS systems finding least-congested routes"
      ],
      "metadata": {
        "colab": {
          "base_uri": "https://localhost:8080/"
        },
        "id": "gT7e4W14A-xa",
        "outputId": "b91ec56d-0742-488b-f526-afa3e33af4db"
      },
      "execution_count": null,
      "outputs": [
        {
          "output_type": "stream",
          "name": "stdout",
          "text": [
            "Shortest distance: 8\n",
            "Path taken: [(0, 0), (0, 1), (0, 2), (1, 2), (2, 2)]\n"
          ]
        }
      ]
    },
    {
      "cell_type": "markdown",
      "source": [
        ">This code takes a 3D image (like a CT scan), extracts a surface where the tissue is present (using a threshold), and estimates the shape and size of that tissue.\n",
        "\n",
        ">It’s a powerful tool for analyzing and visualizing 3D structures in medical and scientific applications."
      ],
      "metadata": {
        "id": "MtDyMK5pk91r"
      }
    },
    {
      "cell_type": "code",
      "source": [
        "# 2. Convolution Operations (Image Filtering)\n",
        "# Advanced Implementation with Multiple Kernels\n",
        "\n",
        "\n",
        "import numpy as np\n",
        "from scipy.signal import convolve2d\n",
        "\n",
        "def apply_filters(image, kernels):\n",
        "    results = []\n",
        "    for name, kernel in kernels.items():\n",
        "        # Add padding to maintain original size\n",
        "        padded = np.pad(image, ((1,1), (1,1)), mode='constant')\n",
        "        # Perform convolution\n",
        "        filtered = convolve2d(padded, kernel, mode='valid')\n",
        "        results.append((name, filtered))\n",
        "    return results\n",
        "\n",
        "# Sample grayscale image (5x5)\n",
        "image = np.array([\n",
        "    [50, 60, 70, 80, 90],\n",
        "    [40, 50, 60, 70, 80],\n",
        "    [30, 40, 50, 60, 70],\n",
        "    [20, 30, 40, 50, 60],\n",
        "    [10, 20, 30, 40, 50]\n",
        "])\n",
        "\n",
        "# Collection of common filters\n",
        "kernels = {\n",
        "    'blur': np.ones((3,3))/9,\n",
        "    'sharpen': np.array([[0,-1,0], [-1,5,-1], [0,-1,0]]),\n",
        "    'edge_detect': np.array([[-1,-1,-1], [-1,8,-1], [-1,-1,-1]]),\n",
        "    'gaussian': np.array([[1,2,1], [2,4,2], [1,2,1]])/16\n",
        "}\n",
        "\n",
        "filtered_images = apply_filters(image, kernels)\n",
        "\n",
        "for name, result in filtered_images:\n",
        "    print(f\"\\n{name} filter:\")\n",
        "    print(np.round(result).astype(int))\n",
        "\n",
        "\n",
        "# Real-World Applications\n",
        "#1.  Medical Imaging: Tumor detection in MRI scans\n",
        "\n",
        "#2.  Autonomous Vehicles: Lane detection in self-driving cars\n",
        "\n",
        "#3.  Social Media: Instagram/Snapchat filters"
      ],
      "metadata": {
        "colab": {
          "base_uri": "https://localhost:8080/"
        },
        "id": "2Rlvsz_8BgzK",
        "outputId": "e5c92d5d-8317-4e5b-c2f3-fd49fc212659"
      },
      "execution_count": null,
      "outputs": [
        {
          "output_type": "stream",
          "name": "stdout",
          "text": [
            "\n",
            "blur filter:\n",
            "[[22 37 43 50 36]\n",
            " [30 50 60 70 50]\n",
            " [23 40 50 60 43]\n",
            " [17 30 40 50 37]\n",
            " [ 9 17 23 30 22]]\n",
            "\n",
            "sharpen filter:\n",
            "[[150 130 150 170 290]\n",
            " [ 70  50  60  70 170]\n",
            " [ 50  40  50  60 150]\n",
            " [ 30  30  40  50 130]\n",
            " [ 10  30  50  70 150]]\n",
            "\n",
            "edge_detect filter:\n",
            "[[250 210 240 270 490]\n",
            " [ 90   0   0   0 270]\n",
            " [ 60   0   0   0 240]\n",
            " [ 30   0   0   0 210]\n",
            " [ 10  30  60  90 250]]\n",
            "\n",
            "gaussian filter:\n",
            "[[28 42 50 58 47]\n",
            " [32 50 60 70 58]\n",
            " [25 40 50 60 50]\n",
            " [18 30 40 50 42]\n",
            " [ 9 18 25 32 28]]\n"
          ]
        }
      ]
    },
    {
      "cell_type": "code",
      "source": [
        "# 3. 3D Matrix Traversal (Voxel Data Processing)\n",
        "# Volume Rendering with Thresholding\n",
        "\n",
        "import numpy as np\n",
        "\n",
        "def process_voxel_data(volume, threshold):\n",
        "    # Initialize output volume\n",
        "    segmented = np.zeros_like(volume)\n",
        "\n",
        "    # Process each voxel\n",
        "    for z in range(volume.shape[0]):\n",
        "        for y in range(volume.shape[1]):\n",
        "            for x in range(volume.shape[2]):\n",
        "                if volume[z,y,x] > threshold:\n",
        "                    segmented[z,y,x] = 1  # Mark as tissue\n",
        "                else:\n",
        "                    segmented[z,y,x] = 0  # Mark as air\n",
        "\n",
        "    # Calculate tissue volume\n",
        "    tissue_voxels = np.sum(segmented)\n",
        "    total_voxels = volume.size\n",
        "    percentage = (tissue_voxels / total_voxels) * 100\n",
        "\n",
        "    return segmented, percentage\n",
        "\n",
        "# Simulated CT scan data (4 slices of 5x5)\n",
        "# Values represent density (0-1000 Hounsfield units)\n",
        "voxel_data = np.random.randint(0, 1000, size=(4,5,5))\n",
        "\n",
        "# Set bone threshold (typically >400 HU)\n",
        "threshold = 400\n",
        "segmented, percentage = process_voxel_data(voxel_data, threshold)\n",
        "\n",
        "print(f\"Original volume:\\n{voxel_data}\")\n",
        "print(f\"\\nSegmented volume (1=tissue, 0=air):\\n{segmented}\")\n",
        "print(f\"\\nTissue occupies {percentage:.2f}% of the volume\")"
      ],
      "metadata": {
        "colab": {
          "base_uri": "https://localhost:8080/"
        },
        "id": "dh3oJMGSB410",
        "outputId": "0156aa7b-f1a0-4fb5-8a34-9c07407c2180"
      },
      "execution_count": null,
      "outputs": [
        {
          "output_type": "stream",
          "name": "stdout",
          "text": [
            "Original volume:\n",
            "[[[367 495 219  87 689]\n",
            "  [496 654 473  41 474]\n",
            "  [446 951 300 345 476]\n",
            "  [833 804 500 948 939]\n",
            "  [358 870 530 998 664]]\n",
            "\n",
            " [[276 879 666 280 778]\n",
            "  [ 31 730 626 235 319]\n",
            "  [942 766 703 561 428]\n",
            "  [ 26 589  90  91 741]\n",
            "  [778 427 588 651 999]]\n",
            "\n",
            " [[508 132 431 245 229]\n",
            "  [375 618 427 979 961]\n",
            "  [157 941 806 349 770]\n",
            "  [227 213 188 811 370]\n",
            "  [995 213 233 645 891]]\n",
            "\n",
            " [[413 557 917  96 193]\n",
            "  [616 384 637 799 161]\n",
            "  [613 295 812 543 217]\n",
            "  [941 864 299 288 881]\n",
            "  [876 104 881 590 920]]]\n",
            "\n",
            "Segmented volume (1=tissue, 0=air):\n",
            "[[[0 1 0 0 1]\n",
            "  [1 1 1 0 1]\n",
            "  [1 1 0 0 1]\n",
            "  [1 1 1 1 1]\n",
            "  [0 1 1 1 1]]\n",
            "\n",
            " [[0 1 1 0 1]\n",
            "  [0 1 1 0 0]\n",
            "  [1 1 1 1 1]\n",
            "  [0 1 0 0 1]\n",
            "  [1 1 1 1 1]]\n",
            "\n",
            " [[1 0 1 0 0]\n",
            "  [0 1 1 1 1]\n",
            "  [0 1 1 0 1]\n",
            "  [0 0 0 1 0]\n",
            "  [1 0 0 1 1]]\n",
            "\n",
            " [[1 1 1 0 0]\n",
            "  [1 0 1 1 0]\n",
            "  [1 0 1 1 0]\n",
            "  [1 1 0 0 1]\n",
            "  [1 0 1 1 1]]]\n",
            "\n",
            "Tissue occupies 64.00% of the volume\n"
          ]
        }
      ]
    },
    {
      "cell_type": "code",
      "source": [
        "# Advanced Application: Marching Cubes Algorithm\n",
        "\n",
        "\n",
        "from skimage.measure import marching_cubes\n",
        "\n",
        "def generate_3d_surface(volume, threshold):\n",
        "    # Run marching cubes\n",
        "    verts, faces, normals, values = marching_cubes(volume, threshold)\n",
        "\n",
        "    # Calculate surface area and volume\n",
        "    surface_area = marching_cubes(volume, threshold)[2]\n",
        "    volume = np.sum(volume > threshold)\n",
        "\n",
        "    return verts, faces, surface_area, volume\n",
        "\n",
        "# Example usage with medical data\n",
        "# (In practice, you'd load real DICOM data)\n",
        "verts, faces, area, vol = generate_3d_surface(voxel_data, threshold)\n",
        "print(f\"\\nGenerated {len(faces)} triangles\")\n",
        "print(f\"Surface area: {area} voxel units\")\n",
        "# Proper surface area calculation\n",
        "def compute_surface_area(verts, faces):\n",
        "    area = 0\n",
        "    for tri in faces:\n",
        "        a, b, c = verts[tri]\n",
        "        ab = b - a\n",
        "        ac = c - a\n",
        "        area += 0.5 * np.linalg.norm(np.cross(ab, ac))\n",
        "    return area\n",
        "print(f\"Surface area: {compute_surface_area(verts, faces)} voxel units\")\n",
        "print(f\"Tissue volume: {vol} voxels\")\n",
        "\n",
        "# 🔬 Why is this code important?\n",
        "#-  Especially in medical imaging, this is useful for:\n",
        "\n",
        "#-  3D Reconstruction: Turn 2D scans (like slices from CT/MRI) into 3D shapes.\n",
        "\n",
        "#-  Volume Analysis: Measure how much space a tumor or organ takes up.\n",
        "\n",
        "#-  Surface Measurement: Calculate surface area of anatomical structures.\n",
        "\n",
        "#-  Visualization: Doctors or radiologists can view 3D models for diagnosis or surgery planning.\n",
        "\n",
        "#-  AI and Simulation: Feed structured 3D data into machine learning or surgical simulations.\n",
        "\n",
        "\n",
        "\n",
        "\n",
        "# Real-World Applications\n",
        "#1.  Medical Diagnostics: Tumor volume measurement\n",
        "\n",
        "#2.  Geological Surveying: Oil reservoir modeling\n",
        "\n",
        "#3.  3D Printing: STL file generation from scans"
      ],
      "metadata": {
        "colab": {
          "base_uri": "https://localhost:8080/"
        },
        "id": "aDaJMJuiCHna",
        "outputId": "749a1066-7b26-49e7-916f-4be1577649a4"
      },
      "execution_count": null,
      "outputs": [
        {
          "output_type": "stream",
          "name": "stdout",
          "text": [
            "\n",
            "Generated 139 triangles\n",
            "Surface area: [[ 2.43169919e-01 -6.88395798e-01 -6.83359087e-01]\n",
            " [ 5.49197793e-01 -3.44219774e-01 -7.61508048e-01]\n",
            " [ 9.56077203e-02 -1.10902414e-01 -9.89221811e-01]\n",
            " [-1.65652603e-01 -7.19953001e-01 -6.73963547e-01]\n",
            " [-3.52109484e-02  3.49726260e-01 -9.36190009e-01]\n",
            " [-7.70111322e-01 -3.63902688e-01  5.23930728e-01]\n",
            " [-8.51387262e-01 -2.57040918e-01  4.57241446e-01]\n",
            " [-6.00332975e-01 -3.02643955e-01  7.40274906e-01]\n",
            " [-3.71044129e-01  9.37783569e-02  9.23867881e-01]\n",
            " [-3.57969820e-01  1.04435369e-01  9.27874386e-01]\n",
            " [-4.79306012e-01 -1.01594880e-01  8.71747792e-01]\n",
            " [-8.69357049e-01  2.96936631e-01 -3.95027786e-01]\n",
            " [-1.74102247e-01  9.67709497e-02 -9.79961097e-01]\n",
            " [ 2.45179757e-01 -1.02893189e-01 -9.64002013e-01]\n",
            " [ 5.41753471e-02  2.78717488e-01 -9.58843887e-01]\n",
            " [-2.19765618e-01  2.11764261e-01 -9.52291429e-01]\n",
            " [-1.01069987e-01 -8.45889986e-01 -5.23693562e-01]\n",
            " [-2.96264678e-01 -8.35974365e-02  9.51440334e-01]\n",
            " [-7.35744178e-01 -4.09061462e-01  5.39767742e-01]\n",
            " [-2.54021496e-01 -2.48048007e-01  9.34850395e-01]\n",
            " [-7.61546314e-01 -5.47810435e-01  3.46339256e-01]\n",
            " [-7.38003969e-01 -6.69023097e-01 -8.80809650e-02]\n",
            " [-2.22129986e-01 -9.37465012e-01  2.67988086e-01]\n",
            " [-2.65141964e-01 -8.40174556e-01 -4.73081857e-01]\n",
            " [ 5.80109715e-01  7.14990258e-01 -3.90207261e-01]\n",
            " [ 8.70568514e-01 -1.72550678e-02 -4.91744548e-01]\n",
            " [ 3.47758025e-01  3.18699688e-01 -8.81756723e-01]\n",
            " [ 9.52915668e-01 -2.83053368e-01 -1.08777590e-01]\n",
            " [ 2.63775736e-01 -8.48842204e-01  4.58136767e-01]\n",
            " [ 4.27772105e-01  4.00877446e-01  8.10128570e-01]\n",
            " [ 9.59286317e-02  9.20072615e-01  3.79821062e-01]\n",
            " [ 9.03361797e-01 -2.15381622e-01 -3.70875001e-01]\n",
            " [ 1.59434512e-01  9.86380398e-01  4.04263474e-02]\n",
            " [-9.36354846e-02 -8.21396887e-01 -5.62618434e-01]\n",
            " [-2.73345083e-01 -9.49303865e-01 -1.55256569e-01]\n",
            " [ 2.53295213e-01 -2.56314486e-01 -9.32815313e-01]\n",
            " [ 7.06102908e-01 -6.65279210e-01 -2.42533013e-01]\n",
            " [ 5.87667167e-01 -3.41369398e-02 -8.08382332e-01]\n",
            " [ 7.19269872e-01 -7.01409951e-02 -6.91180944e-01]\n",
            " [ 7.15086460e-01 -2.73345653e-02 -6.98501408e-01]\n",
            " [ 3.78527164e-01 -9.25563574e-01 -7.01590115e-03]\n",
            " [ 7.62620419e-02 -8.68411064e-01 -4.89945233e-01]\n",
            " [-6.81278529e-03 -1.18303820e-01  9.92954075e-01]\n",
            " [-5.50977513e-02 -9.98348832e-01  1.62421428e-02]\n",
            " [ 9.43593681e-01 -3.26129794e-01 -5.71871065e-02]\n",
            " [ 3.10438275e-01 -8.99276793e-01 -3.08106035e-01]\n",
            " [-7.54860818e-01  6.02385283e-01 -2.59455353e-01]\n",
            " [-1.43000096e-01 -5.71243644e-01 -8.08227479e-01]\n",
            " [-3.01776379e-01 -1.47437721e-01 -9.41909313e-01]\n",
            " [ 3.74437049e-02 -9.98740256e-01  3.34045924e-02]\n",
            " [-9.92111564e-01  1.19932614e-01  3.64805982e-02]\n",
            " [-3.74740183e-01 -4.99653608e-01  7.80971229e-01]\n",
            " [ 1.73068538e-01 -9.84660983e-01  2.21369956e-02]\n",
            " [ 8.16127956e-01 -5.36701143e-01 -2.14212552e-01]\n",
            " [-9.89966571e-01 -9.54742283e-02 -1.04167379e-01]\n",
            " [ 5.30915260e-01  9.24692722e-04 -8.47424388e-01]\n",
            " [ 2.68931419e-01 -1.56619884e-02 -9.63032007e-01]\n",
            " [-4.14154306e-02 -5.53303719e-01  8.31949353e-01]\n",
            " [-3.04663796e-02 -9.62017536e-01  2.71282196e-01]\n",
            " [ 1.69795677e-02 -9.89745498e-01 -1.41829461e-01]\n",
            " [ 1.33561596e-01 -1.32274598e-01 -9.82173502e-01]\n",
            " [ 3.49874198e-01  9.06088829e-01  2.37888888e-01]\n",
            " [-3.81765693e-01  9.01216269e-01 -2.05095470e-01]\n",
            " [-4.05561000e-01  4.69317704e-01 -7.84385860e-01]\n",
            " [-4.57921810e-03 -9.99848127e-01  1.68163553e-02]\n",
            " [-8.44041944e-01  7.16382414e-02 -5.31470716e-01]\n",
            " [-1.60570577e-01 -5.35396188e-02 -9.85571206e-01]\n",
            " [-2.94405937e-01 -7.47714520e-01  5.95187545e-01]\n",
            " [-1.50295004e-01 -7.17785060e-01  6.79849982e-01]\n",
            " [-1.34198308e-01 -6.98966622e-01  7.02450335e-01]\n",
            " [-3.22901607e-01 -9.02890682e-01  2.83765674e-01]\n",
            " [-1.01262636e-01 -9.24672365e-01  3.67051572e-01]\n",
            " [ 6.03000373e-02 -5.97498834e-01  7.99599290e-01]\n",
            " [ 7.86057532e-01  6.44113570e-02 -6.14788353e-01]\n",
            " [-9.77820307e-02  1.90782279e-01 -9.76750135e-01]\n",
            " [-1.01904370e-01 -7.64034510e-01  6.37076735e-01]\n",
            " [-9.70499694e-01  2.02649727e-01 -1.30627155e-01]\n",
            " [-1.47842392e-02 -1.98531032e-01  9.79983091e-01]\n",
            " [ 8.25380087e-01  5.52100718e-01 -1.18036188e-01]\n",
            " [-1.56749729e-02 -4.96990204e-01 -8.67614567e-01]\n",
            " [-9.35204744e-01 -1.55007094e-01 -3.18378597e-01]\n",
            " [ 3.91392596e-02  5.63503504e-01 -8.25186014e-01]\n",
            " [-9.65119228e-02 -3.79887938e-01  9.19984043e-01]\n",
            " [ 4.94890213e-01 -6.62143767e-01  5.62716067e-01]\n",
            " [ 6.51495934e-01 -4.61677849e-01  6.02002144e-01]\n",
            " [ 5.93873143e-01 -2.22269312e-01  7.73247063e-01]\n",
            " [-5.89631200e-02 -6.43438995e-01 -7.63223171e-01]\n",
            " [ 9.32409838e-02 -4.06462073e-01  9.08897519e-01]\n",
            " [ 6.23658061e-01 -6.66176975e-01 -4.08972949e-01]\n",
            " [ 4.19146746e-01 -3.23768824e-01 -8.48227441e-01]\n",
            " [ 1.87883735e-01 -8.81901026e-01  4.32377458e-01]\n",
            " [ 5.12863040e-01  1.19350525e-02  8.58387470e-01]\n",
            " [ 9.02234316e-01  1.70560434e-01  3.96083772e-01]\n",
            " [ 7.09624410e-01 -7.03735530e-01 -3.44889164e-02]\n",
            " [-9.05222237e-01  3.65227610e-01  2.17213020e-01]\n",
            " [-9.07835186e-01 -4.17597413e-01  3.80487368e-02]\n",
            " [-4.94699478e-01 -4.65928555e-01  7.33609557e-01]\n",
            " [-6.48720145e-01 -4.28732663e-01  6.28769040e-01]\n",
            " [ 7.02231169e-01 -8.90251324e-02 -7.06361055e-01]\n",
            " [-7.75785267e-01  6.27215803e-01  6.89752251e-02]\n",
            " [ 8.57486762e-03 -5.30752838e-01 -8.47483277e-01]\n",
            " [ 1.01004606e-02 -7.68147409e-01  6.40193343e-01]\n",
            " [ 7.93970883e-01 -5.98644614e-01  1.05994627e-01]\n",
            " [-6.05051935e-01  4.81119573e-01  6.34378493e-01]\n",
            " [ 1.35806844e-01  3.90886873e-01  9.10364747e-01]\n",
            " [-4.18597102e-01 -8.23669508e-02 -9.04429197e-01]\n",
            " [ 3.25708956e-01  5.21512866e-01 -7.88630486e-01]\n",
            " [-1.58192664e-01 -9.27024364e-01  3.40001374e-01]\n",
            " [ 4.92482960e-01 -7.38476098e-01 -4.60557908e-01]] voxel units\n",
            "Surface area: 40.0710334777832 voxel units\n",
            "Tissue volume: 64 voxels\n"
          ]
        }
      ]
    },
    {
      "cell_type": "markdown",
      "source": [
        "## unit 2"
      ],
      "metadata": {
        "id": "QDGw1gO0RnXO"
      }
    },
    {
      "cell_type": "markdown",
      "source": [
        "- Columnar ZigZag and Reverse Traversal of Matrices"
      ],
      "metadata": {
        "id": "nc0q3-dGZtQ3"
      }
    },
    {
      "cell_type": "code",
      "source": [
        "# Columnar ZigZag and Reverse Traversal of Matrices\n",
        "def columnar_zigzag_traversal(matrix):\n",
        "    if matrix is None:\n",
        "        return []\n",
        "    rows = len(matrix)\n",
        "    cols = len(matrix[0])\n",
        "\n",
        "    for col in range(cols-1,-1,-1):\n",
        "        if col % 2 == 0:\n",
        "            for row in range(rows):\n",
        "                yield matrix[row][col]\n",
        "        else:\n",
        "            for row in range(rows-1,-1,-1):\n",
        "                yield matrix[row][col]\n",
        "    return matrix\n",
        "matrix = [\n",
        "    [1, 2, 3, 4],\n",
        "    [5, 6, 7, 8],\n",
        "    [9, 10, 11, 12]\n",
        "]\n",
        "print(\"Columnar ZigZag Traversal: \",end = \" \")\n",
        "for element in columnar_zigzag_traversal(matrix):\n",
        "    print(element,end = \",\")\n",
        "print()"
      ],
      "metadata": {
        "colab": {
          "base_uri": "https://localhost:8080/"
        },
        "id": "7fwfN4jtRk6F",
        "outputId": "ae3d6c75-805f-4bbe-ca89-dcacca85a974"
      },
      "execution_count": null,
      "outputs": [
        {
          "output_type": "stream",
          "name": "stdout",
          "text": [
            "Columnar ZigZag Traversal:  12,8,4,3,7,11,10,6,2,1,5,9,\n"
          ]
        }
      ]
    },
    {
      "cell_type": "code",
      "source": [
        "# more optimized way to solve this problem\n",
        "def columnar_zigzag_traversal(matrix):\n",
        "    if matrix is None:\n",
        "        return []\n",
        "    rows = len(matrix)\n",
        "    cols = len(matrix[0])\n",
        "    direction = 'up'\n",
        "    row , col = rows - 1, cols -1\n",
        "    result = []\n",
        "\n",
        "    while len(result) < rows * cols :\n",
        "        result.append(matrix[row][col])\n",
        "\n",
        "        if direction == 'up':\n",
        "            if row -1 < 0:\n",
        "                direction = 'down'\n",
        "                col -=1\n",
        "            else:\n",
        "                row -=1\n",
        "        else:\n",
        "            if row + 1 == rows:\n",
        "                direction = 'up'\n",
        "                col -=1\n",
        "            else:\n",
        "                row +=1\n",
        "    return result\n",
        "matrix = [\n",
        "    [1, 2, 3, 4],\n",
        "    [5, 6, 7, 8],\n",
        "    [9, 10, 11, 12]\n",
        "]\n",
        "print(\"Columnar ZigZag Traversal: \",end = \" \")\n",
        "for element in columnar_zigzag_traversal(matrix):\n",
        "    print(element,end = \",\")\n",
        "print()"
      ],
      "metadata": {
        "colab": {
          "base_uri": "https://localhost:8080/"
        },
        "id": "6Pvi75fbWbJt",
        "outputId": "cc3568ef-68b0-47d0-8a62-43c3fda55a14"
      },
      "execution_count": null,
      "outputs": [
        {
          "output_type": "stream",
          "name": "stdout",
          "text": [
            "Columnar ZigZag Traversal:  12,8,4,3,7,11,10,6,2,1,5,9,\n"
          ]
        }
      ]
    },
    {
      "cell_type": "markdown",
      "source": [
        "- Traverse Using Decreasing Range"
      ],
      "metadata": {
        "id": "5B--eyMoZyXn"
      }
    },
    {
      "cell_type": "code",
      "source": [
        "def traverse_decreasing_range(matrix):\n",
        "    if matrix is None:\n",
        "        return []\n",
        "    rows = len(matrix)-1\n",
        "    cols = len(matrix[0]) -1\n",
        "\n",
        "    while rows> -1:\n",
        "        for col in range(cols,-1,-1):\n",
        "            yield matrix[rows][col]\n",
        "        rows -=1\n",
        "    return matrix\n",
        "\n",
        "matrix = [\n",
        "    [1, 2, 3, 4],\n",
        "    [5, 6, 7, 8],\n",
        "    [9, 10, 11, 12]\n",
        "]\n",
        "print(\"Traverse Using Decreasing Range: \",end = \" \")\n",
        "for element in traverse_decreasing_range(matrix):\n",
        "    print(element,end = \",\")\n",
        "print()"
      ],
      "metadata": {
        "colab": {
          "base_uri": "https://localhost:8080/"
        },
        "id": "IGYymFegXnrw",
        "outputId": "9a8fc74e-9537-4bc8-ee07-f7f567860edf"
      },
      "execution_count": null,
      "outputs": [
        {
          "output_type": "stream",
          "name": "stdout",
          "text": [
            "Traverse Using Decreasing Range:  12,11,10,9,8,7,6,5,4,3,2,1,\n"
          ]
        }
      ]
    },
    {
      "cell_type": "markdown",
      "source": [
        "## Unit 3\n",
        "\n",
        ">Matrix transposition is a fundamental operation where rows become columns and vice versa. Let's explore advanced problems and optimized solutions beyond the basic numpy.transpose()."
      ],
      "metadata": {
        "id": "s6S3UnxfI1G7"
      }
    },
    {
      "cell_type": "code",
      "source": [
        "# Transposing Matrices in Python\n",
        "def transposing_matrix(matrix):\n",
        "    # if matrix is None:\n",
        "    #     return []\n",
        "    # rows = len(matrix)\n",
        "    # cols = len(matrix[0])\n",
        "    # result_matirx = [[0 for _ in range(rows)] for _ in range(cols)]\n",
        "    # for row in range(rows):\n",
        "    #     for col in range(cols):\n",
        "    #         result_matirx[col][row] = matrix[row][col]\n",
        "    # return result_matirx\n",
        "\n",
        "    # alternative solution\n",
        "    if matrix is None:\n",
        "        return []\n",
        "    rows = len(matrix)\n",
        "    cols = len(matrix[0])\n",
        "    result_matirx = [[matrix[row][col] for row in range(rows)] for col in range(cols)]\n",
        "    return result_matirx\n",
        "matrix = [\n",
        "    [1, 2, 3, 4],\n",
        "    [5, 6, 7, 8],\n",
        "    [9, 10, 11, 12]\n",
        "]\n",
        "print(transposing_matrix(matrix))"
      ],
      "metadata": {
        "colab": {
          "base_uri": "https://localhost:8080/"
        },
        "id": "DSC5LYOFIzw1",
        "outputId": "4aaa8fa2-994e-4cc3-da26-e7e2db459a3b"
      },
      "execution_count": null,
      "outputs": [
        {
          "output_type": "stream",
          "name": "stdout",
          "text": [
            "[[1, 5, 9], [2, 6, 10], [3, 7, 11], [4, 8, 12]]\n"
          ]
        }
      ]
    },
    {
      "cell_type": "code",
      "source": [
        "# 1. Basic Transposition\n",
        "matrix = [\n",
        "    [1, 2, 3, 4],\n",
        "    [5, 6, 7, 8],\n",
        "    [9, 10, 11, 12]\n",
        "]\n",
        "# zip(*matrix) unpacks rows into columns.\n",
        "transposed = list(zip(*matrix))\n",
        "print(transposed)\n",
        "\n"
      ],
      "metadata": {
        "colab": {
          "base_uri": "https://localhost:8080/"
        },
        "id": "djSQU_a5OQv4",
        "outputId": "24fdc482-2e77-4aa4-bc6d-f4f4d339df75"
      },
      "execution_count": null,
      "outputs": [
        {
          "output_type": "stream",
          "name": "stdout",
          "text": [
            "[(1, 5, 9), (2, 6, 10), (3, 7, 11), (4, 8, 12)]\n"
          ]
        }
      ]
    },
    {
      "cell_type": "code",
      "source": [
        "# 2. Transposition with List Comprehension\n",
        "matrix= [\n",
        "    [1, 2, 3, 4],\n",
        "    [5, 6, 7, 8],\n",
        "    [9, 10, 11, 12]\n",
        "]\n",
        "\n",
        "transposed = [[row[col] for row in matrix] for col in range(len(matrix[0]))]\n",
        "print(transposed)"
      ],
      "metadata": {
        "colab": {
          "base_uri": "https://localhost:8080/"
        },
        "id": "_Ntuc1qiO54T",
        "outputId": "b75bd7f3-5b4d-4bb6-c1f0-4555492972f1"
      },
      "execution_count": null,
      "outputs": [
        {
          "output_type": "stream",
          "name": "stdout",
          "text": [
            "[[1, 5, 9], [2, 6, 10], [3, 7, 11], [4, 8, 12]]\n"
          ]
        }
      ]
    },
    {
      "cell_type": "code",
      "source": [
        "# 3. In-Place Transposition (Square Matrix)\n",
        "matrix = [\n",
        "    [1, 2, 3],\n",
        "    [4, 5, 6],\n",
        "    [7, 8, 9]\n",
        "]\n",
        "\n",
        "for row in range(len(matrix)):\n",
        "    for col in range(row + 1, len(matrix)):\n",
        "        matrix[row][col],matrix[col][row] = matrix[col][row], matrix[row][col]\n",
        "print(matrix)"
      ],
      "metadata": {
        "colab": {
          "base_uri": "https://localhost:8080/"
        },
        "id": "37y4bY3iR3CO",
        "outputId": "fd18ebc1-ad28-4262-e17b-e147ba567acd"
      },
      "execution_count": null,
      "outputs": [
        {
          "output_type": "stream",
          "name": "stdout",
          "text": [
            "[[1, 4, 7], [2, 5, 8], [3, 6, 9]]\n"
          ]
        }
      ]
    },
    {
      "cell_type": "code",
      "source": [
        "# 4. Transposition for Sparse Matrices\n",
        "# Efficiently transpose a sparse matrix (mostly zeros).\n",
        "\n",
        "from collections import defaultdict\n",
        "sparse = [\n",
        "    [0, 0, 3],\n",
        "    [0, 5, 0],\n",
        "    [7, 0, 0]\n",
        "]\n",
        "\n",
        "transpose = defaultdict(int)\n",
        "for row in range(len(sparse)):\n",
        "    for col in range(len(sparse)):\n",
        "        if sparse[row][col] != 0:\n",
        "            transpose[(col,row)] = sparse[row][col]\n",
        "print(transpose)"
      ],
      "metadata": {
        "colab": {
          "base_uri": "https://localhost:8080/"
        },
        "id": "aKHO5tE3S6Qh",
        "outputId": "78e0b165-3a60-415c-ebc6-86f1d51481f8"
      },
      "execution_count": null,
      "outputs": [
        {
          "output_type": "stream",
          "name": "stdout",
          "text": [
            "defaultdict(<class 'int'>, {(2, 0): 3, (1, 1): 5, (0, 2): 7})\n"
          ]
        }
      ]
    },
    {
      "cell_type": "code",
      "source": [
        "# 5. Blockwise Transposition (Large Matrices)\n",
        "# Transpose a large matrix in blocks (memory-efficient).\n",
        "import numpy as np\n",
        "\n",
        "large_matrix = np.random.rand(1000,1000)\n",
        "block_size = 100\n",
        "transposed = np.empty_like(large_matrix)\n",
        "# this is main matrix ----\n",
        "print(large_matrix)\n",
        "\n",
        "for i in range(0, 1000,block_size):\n",
        "    for j in range(0, 1000, block_size):\n",
        "        transposed[i:i+block_size, j:j+block_size] = large_matrix[j:j+block_size, i:i+block_size].T\n",
        "# this one is transposed matrix\n",
        "print(transposed)\n",
        "\n",
        "\n",
        "# Note :\n",
        "# Use Case: GPU acceleration (CUDA) for big data."
      ],
      "metadata": {
        "colab": {
          "base_uri": "https://localhost:8080/"
        },
        "id": "kYdrSjtUUSz8",
        "outputId": "f6e15293-1935-4a6c-ac46-f392009f73cf"
      },
      "execution_count": null,
      "outputs": [
        {
          "output_type": "stream",
          "name": "stdout",
          "text": [
            "[[0.51921241 0.19465805 0.32357217 ... 0.55529248 0.246045   0.34916514]\n",
            " [0.34956295 0.76397393 0.46088172 ... 0.89085817 0.26114942 0.53485916]\n",
            " [0.47898875 0.30353518 0.33079139 ... 0.64134455 0.80154596 0.62763711]\n",
            " ...\n",
            " [0.69495889 0.99884347 0.96075031 ... 0.58856337 0.36511455 0.02469284]\n",
            " [0.96383025 0.78617923 0.6203443  ... 0.47775026 0.57132637 0.44433164]\n",
            " [0.64144489 0.86887865 0.82236133 ... 0.76129848 0.7062186  0.53081623]]\n",
            "[[0.51921241 0.34956295 0.47898875 ... 0.69495889 0.96383025 0.64144489]\n",
            " [0.19465805 0.76397393 0.30353518 ... 0.99884347 0.78617923 0.86887865]\n",
            " [0.32357217 0.46088172 0.33079139 ... 0.96075031 0.6203443  0.82236133]\n",
            " ...\n",
            " [0.55529248 0.89085817 0.64134455 ... 0.58856337 0.47775026 0.76129848]\n",
            " [0.246045   0.26114942 0.80154596 ... 0.36511455 0.57132637 0.7062186 ]\n",
            " [0.34916514 0.53485916 0.62763711 ... 0.02469284 0.44433164 0.53081623]]\n"
          ]
        }
      ]
    },
    {
      "cell_type": "code",
      "source": [
        "# 6. Transposition in Linear Algebra\n",
        "# Problem:\n",
        "# Verify if (Aᵀ)ᵀ = A.\n",
        "\n",
        "A = [[1, 2], [3, 4]]\n",
        "A_transpose = list(zip(*A))\n",
        "print(A_transpose)\n",
        "A_transpose_transpose = list(zip(*A_transpose))\n",
        "print(A_transpose_transpose)\n",
        "\n",
        "# Note:\n",
        "# Math Insight:\n",
        "# Double transposition returns the original matrix."
      ],
      "metadata": {
        "colab": {
          "base_uri": "https://localhost:8080/"
        },
        "id": "gxHI1xDKWUb8",
        "outputId": "e508c99e-3fd9-4ba4-e60f-5eb350a1eb1f"
      },
      "execution_count": null,
      "outputs": [
        {
          "output_type": "stream",
          "name": "stdout",
          "text": [
            "[(1, 3), (2, 4)]\n",
            "[(1, 2), (3, 4)]\n"
          ]
        }
      ]
    },
    {
      "cell_type": "code",
      "source": [
        "# 7. Parallel Transposition (Multithreading)\n",
        "# Problem:\n",
        "# Speed up transposition using parallel processing.\n",
        "\n",
        "from concurrent.futures import ThreadPoolExecutor\n",
        "import numpy as np\n",
        "def transpose_chunk(chunk):\n",
        "    return list(zip(*chunk))\n",
        "\n",
        "matrix = np.random.rand(1000,1000)\n",
        "chunks = np.array_split(matrix,4)  # Split into 4 chunks\n",
        "\n",
        "with ThreadPoolExecutor() as executor:\n",
        "    results = list(executor.map(transpose_chunk,chunks))\n",
        "final_response = np.vstack(results)\n",
        "print(final_response.shape)\n",
        "\n",
        "\n",
        "# Performance Gain:\n",
        "# 4x faster on a quad-core CPU."
      ],
      "metadata": {
        "colab": {
          "base_uri": "https://localhost:8080/"
        },
        "id": "KGd9PB6yXiLh",
        "outputId": "58cf3c64-772d-4896-d7ae-5b2522bc0cbf"
      },
      "execution_count": null,
      "outputs": [
        {
          "output_type": "stream",
          "name": "stdout",
          "text": [
            "(4000, 250)\n"
          ]
        }
      ]
    },
    {
      "cell_type": "code",
      "source": [
        "# 8. Transposition in Image Processing\n",
        "# Problem:\n",
        "# Rotate an image (represented as a matrix) 90° clockwise.\n",
        "\n",
        "image = [\n",
        "    [1, 2, 3],\n",
        "    [4, 5, 6]\n",
        "]\n",
        "\n",
        "rotated = list(zip(*image[::-1]))  # Transpose + reverse rows\n",
        "print(rotated)  # [(4, 1), (5, 2), (6, 3)]"
      ],
      "metadata": {
        "colab": {
          "base_uri": "https://localhost:8080/"
        },
        "id": "ra8FE0o7Z6cy",
        "outputId": "73428bb4-efb2-4d85-a63b-d15eb05d6688"
      },
      "execution_count": null,
      "outputs": [
        {
          "output_type": "stream",
          "name": "stdout",
          "text": [
            "[(4, 1), (5, 2), (6, 3)]\n"
          ]
        }
      ]
    },
    {
      "cell_type": "markdown",
      "source": [
        ">Adjacent Cells in 2D Arrays (Matrices/Grids)\n",
        "\n",
        ">Adjacent cells (or neighboring cells) in a 2D array are the cells that are directly next to a given cell, either:\n",
        "- Horizontally or vertically (4-directional adjacency)\n",
        "- Including diagonals (8-directional adjacency)\n",
        "\n",
        "[1] [2] [3]\n",
        "\n",
        "[4] [5] [6]\n",
        "\n",
        "[7] [8] [9]\n",
        "\n",
        "- 4-directional adjacent cells (up, down, left, right):\n",
        "\n",
        "[2] (above)\n",
        "\n",
        "[4] (left)\n",
        "\n",
        "[6] (right)\n",
        "\n",
        "[8] (below)\n",
        "\n",
        "- 8-directional adjacent cells (includes diagonals):\n",
        "\n",
        ">All 4-directional neighbors plus:\n",
        "\n",
        "[1] (top-left)\n",
        "\n",
        "[3] (top-right)\n",
        "\n",
        "[7] (bottom-left)\n",
        "\n",
        "[9] (bottom-right)\n",
        "\n",
        "1 Key Concepts\n",
        "- 4-directional adjacency (von Neumann neighborhood):\n",
        "\n",
        "    Up, Down, Left, Right\n",
        "\n",
        "    Used in maze solving, simple pathfinding\n",
        "\n",
        "    8-directional adjacency (Moore neighborhood):\n",
        "\n",
        "    Includes diagonals\n",
        "\n",
        "    Used in image processing, more complex pathfinding\n",
        "\n",
        "2. Edge handling:\n",
        "\n",
        "    Corner cells have only 3 adjacent cells (8-directional)\n",
        "\n",
        "    Edge cells (not corners) have 5 adjacent cells\n",
        "\n",
        "    Center cells in a 3x3 grid have all 8 adjacent cells"
      ],
      "metadata": {
        "id": "k0UaJ0_xyYiL"
      }
    },
    {
      "cell_type": "markdown",
      "source": [
        "- Task Statement\n",
        ">Visualize a chessboard in the form of a 2D array, where each cell could be marked 'E' for empty or 'P' for a piece. Our quest involves summoning a Python function named find_positions(). Upon examining this 2D array, this function identifies all the spots where a new piece could be placed so that it can move to another empty cell in one move. The catch is that a piece can move only to an immediately neighboring cell directly above, below, to the left, or right, but not diagonally."
      ],
      "metadata": {
        "id": "vsNa20AEUviH"
      }
    },
    {
      "cell_type": "code",
      "source": [
        "def find_positions(board):\n",
        "    positions = []\n",
        "    rows, cols = len(board), len(board[0])\n",
        "\n",
        "    for row in range(rows):\n",
        "        for col in range(cols):\n",
        "            if board[row][col] == 'E':\n",
        "                if((col < cols -1 and board[row][col+1] == \"E\") or\n",
        "                  (col > 0 and board[row][col-1] == \"E\") or\n",
        "                  (row < rows -1 and board[row+1][col] == \"E\") or\n",
        "                  (row > 0 and board[row-1][col] == \"E\")):\n",
        "                  positions.append((row,col))\n",
        "\n",
        "    return positions\n",
        "board = [\n",
        "    ['P', 'E', 'E', 'P'],\n",
        "    ['E', 'P', 'E', 'P'],\n",
        "    ['P', 'E', 'P', 'P'],\n",
        "    ['P', 'E', 'P', 'E']\n",
        "]\n",
        "\n",
        "print(find_positions(board))"
      ],
      "metadata": {
        "id": "_Ee1tW2OyYFk",
        "colab": {
          "base_uri": "https://localhost:8080/"
        },
        "outputId": "19fabfcf-8bf2-4ecc-fb45-29aa344bacb9"
      },
      "execution_count": null,
      "outputs": [
        {
          "output_type": "stream",
          "name": "stdout",
          "text": [
            "[(0, 1), (0, 2), (1, 2), (2, 1), (3, 1)]\n"
          ]
        }
      ]
    },
    {
      "cell_type": "markdown",
      "source": [
        "- Lesson : 05\n",
        "> Navigating Adjacent Cells in a Grid: An Exercise in 2D Traversal"
      ],
      "metadata": {
        "id": "EeagPaSU_XqS"
      }
    },
    {
      "cell_type": "code",
      "source": [
        "def path_traverse(grid, start_row, start_col):\n",
        "    if not grid or not grid[0]:\n",
        "        return []\n",
        "    rows, cols = len(grid), len(grid[0])\n",
        "    visited = [[False for _ in range(cols)] for _ in range(rows)]\n",
        "    directions = [(0, 1), (0, -1), (1, 0), (-1, 0)]  # Right, Left, Down, Up\n",
        "\n",
        "    def dfs(row, col):\n",
        "        if row < 0 or row >= rows or col < 0 or col >= cols:\n",
        "            return []\n",
        "        if visited[row][col] or grid[row][col] != 0:\n",
        "            return []\n",
        "\n",
        "        visited[row][col] = True\n",
        "        path = [(row, col)]\n",
        "\n",
        "        for dr, dc in directions:\n",
        "            new_row, new_col = row + dr, col + dc\n",
        "            path.extend(dfs(new_row, new_col))\n",
        "        return path\n",
        "\n",
        "    return dfs(start_row, start_col)\n",
        "\n",
        "grid = [\n",
        "    [1, 1, 1, 1, 1],\n",
        "    [1, 0, 0, 0, 1],\n",
        "    [1, 0, 1, 0, 1],\n",
        "    [1, 0, 0, 0, 1],\n",
        "    [1, 1, 1, 1, 1]\n",
        "]\n",
        "start_row, start_col = 1, 2\n",
        "print(path_traverse(grid, start_row, start_col))"
      ],
      "metadata": {
        "colab": {
          "base_uri": "https://localhost:8080/"
        },
        "id": "3ETxma6u_Kzq",
        "outputId": "0b5c7154-bef5-4863-cdbe-8a7f092f30ee"
      },
      "execution_count": null,
      "outputs": [
        {
          "output_type": "stream",
          "name": "stdout",
          "text": [
            "[[False, False, False, False, False], [False, False, False, False, False], [False, False, False, False, False], [False, False, False, False, False], [False, False, False, False, False]]\n",
            "[[False, False, False, False, False], [False, False, True, False, False], [False, False, False, False, False], [False, False, False, False, False], [False, False, False, False, False]]\n",
            "[[False, False, False, False, False], [False, False, True, True, False], [False, False, False, False, False], [False, False, False, False, False], [False, False, False, False, False]]\n",
            "[[False, False, False, False, False], [False, False, True, True, False], [False, False, False, True, False], [False, False, False, False, False], [False, False, False, False, False]]\n",
            "[[False, False, False, False, False], [False, False, True, True, False], [False, False, False, True, False], [False, False, False, True, False], [False, False, False, False, False]]\n",
            "[[False, False, False, False, False], [False, False, True, True, False], [False, False, False, True, False], [False, False, True, True, False], [False, False, False, False, False]]\n",
            "[[False, False, False, False, False], [False, False, True, True, False], [False, False, False, True, False], [False, True, True, True, False], [False, False, False, False, False]]\n",
            "[[False, False, False, False, False], [False, False, True, True, False], [False, True, False, True, False], [False, True, True, True, False], [False, False, False, False, False]]\n",
            "[[False, False, False, False, False], [False, True, True, True, False], [False, True, False, True, False], [False, True, True, True, False], [False, False, False, False, False]]\n",
            "[(1, 2), (1, 3), (2, 3), (3, 3), (3, 2), (3, 1), (2, 1), (1, 1)]\n"
          ]
        }
      ]
    },
    {
      "cell_type": "code",
      "source": [
        "def path_traversed(grid, start_row, start_col):\n",
        "    if not grid or not grid[0]:\n",
        "        return []\n",
        "\n",
        "    rows, cols = len(grid), len(grid[0])\n",
        "    directions = [(0, 1), (0, -1), (1, 0), (-1, 0)]  # Right, Left, Down, Up\n",
        "    path = [grid[start_row][start_col]]\n",
        "\n",
        "    x,y = start_row, start_col\n",
        "\n",
        "    while True:\n",
        "        possible_move = []\n",
        "        current_position = grid[x][y]\n",
        "        for dr,dc in directions:\n",
        "            new_row, new_col = x + dr, y + dc\n",
        "            if 0 <= new_row < rows and 0 <= new_col < cols and current_position < grid[new_row][new_col]:\n",
        "                possible_move.append((new_row,new_col))\n",
        "\n",
        "        if not possible_move:\n",
        "            break\n",
        "\n",
        "        next_position = max(possible_move,key = lambda pos : grid[pos[0]][pos[1]])\n",
        "\n",
        "        x,y = next_position\n",
        "        path.append(grid[x][y])\n",
        "\n",
        "    return path\n",
        "\n",
        "\n",
        "mountain = [\n",
        "    [1,2,3,4,5],\n",
        "    [6,8,9,11,10],\n",
        "    [7,12,13,14,15]\n",
        "]\n",
        "\n",
        "print(path_traversed(mountain,0,0))"
      ],
      "metadata": {
        "id": "p1dUTC7eyXpR",
        "colab": {
          "base_uri": "https://localhost:8080/"
        },
        "outputId": "c101b32c-cbe3-4426-c43c-29886d9fc4c4"
      },
      "execution_count": 5,
      "outputs": [
        {
          "output_type": "stream",
          "name": "stdout",
          "text": [
            "[1, 6, 8, 12, 13, 14, 15]\n"
          ]
        }
      ]
    }
  ]
}